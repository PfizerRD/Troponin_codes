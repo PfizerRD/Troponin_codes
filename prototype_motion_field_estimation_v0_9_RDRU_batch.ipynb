{
 "cells": [
  {
   "cell_type": "code",
   "execution_count": 1,
   "metadata": {},
   "outputs": [],
   "source": [
    "import matplotlib.pyplot as plt\n",
    "import sys\n",
    "import time\n",
    "import scipy.io as io\n",
    "import os\n",
    "from os import listdir\n",
    "import glob\n",
    "import time\n",
    "\n",
    "import csv\n",
    "import cv2\n",
    "import numpy as np\n",
    "from opt_flow import draw_flow\n",
    "\n",
    "from scipy import ndimage as ndi\n",
    "\n",
    "import math\n",
    "from skimage import data\n",
    "from skimage.filters import threshold_otsu\n",
    "from skimage.segmentation import clear_border\n",
    "from skimage.measure import label, regionprops\n",
    "from skimage.morphology import binary_closing, binary_opening, binary_dilation, disk,remove_small_objects,label,binary_erosion\n",
    "from skimage.color import label2rgb\n",
    "from skimage import data, color, io, img_as_float\n",
    "\n",
    "from scipy.signal import find_peaks\n",
    "from skimage.filters import gaussian\n",
    "\n",
    "import math\n",
    "import pandas as pd\n",
    "\n",
    "def listdir_nohidden(path):\n",
    "    for f in os.listdir(path):\n",
    "        if not f.startswith('.') and not f.startswith('contractivity'):\n",
    "            yield f\n",
    "\n",
    "def getLargestCC(segmentation):\n",
    "    labels = label(segmentation)\n",
    "    ###assert( labels.max() != 0 ) # assume at least 1 CC\n",
    "    if labels.max()==0:\n",
    "        return segmentation\n",
    "    largestCC = labels == np.argmax(np.bincount(labels.flat)[1:])+1\n",
    "    return largestCC\n",
    "\n",
    "def SimilarityComparison(img10, img20):\n",
    "    img1 = gaussian(img10, sigma=1)\n",
    "    img2 = gaussian(img20, sigma=1)\n",
    "   \n",
    "    reg_hei,reg_wid = img10.shape\n",
    "    \n",
    "    N = reg_hei*reg_wid\n",
    "\n",
    "    norm_term1 = np.sum(np.multiply(img1,img2))*N\n",
    "    norm_term2 = np.sum(img1)*np.sum(img2)\n",
    "\n",
    "    denorm_term1 = N*np.sum(np.multiply(img1,img1))-np.sum(img1)*np.sum(img1)\n",
    "    denorm_term2 = N*np.sum(np.multiply(img2,img2))-np.sum(img2)*np.sum(img2)\n",
    "\n",
    "    SC = (norm_term1-norm_term2)*(norm_term1-norm_term2)/(denorm_term1*denorm_term2)\n",
    "    \n",
    "    return SC\n",
    "\n",
    "def iPSC_pipeline(RootPath,OutputPath,subfolder):\n",
    "    pass\n",
    "    \n",
    "\n",
    "    \n",
    "    \n",
    "    \n",
    "ds = 2\n",
    "\n",
    "RootPath = 'Y:\\\\RDRU_MYBPC3_2021\\\\Pilot20211011\\\\IPSC_Plate1'\n",
    "\n",
    "OutputPath = 'Y:\\\\RDRU_MYBPC3_2021\\\\Pilot20211011_plate1_output'\n",
    "\n",
    "subfolders = list(listdir_nohidden(RootPath))\n",
    "\n"
   ]
  },
  {
   "cell_type": "code",
   "execution_count": 4,
   "metadata": {},
   "outputs": [
    {
     "name": "stdout",
     "output_type": "stream",
     "text": [
      "Y:\\RDRU_MYBPC3_2021\\Pilot20211011\\IPSC_Plate1\\211011_Brandon_IPSC_Plate1_s003\n",
      "Directory  Y:\\RDRU_MYBPC3_2021\\Pilot20211011_plate1_output  already exists\n",
      "Y:\\RDRU_MYBPC3_2021\\Pilot20211011\\IPSC_Plate1\\211011_Brandon_IPSC_Plate1_s003\\211011_Brandon_IPSC_Plate1_s003_video_ds.avi\n",
      "Y:\\RDRU_MYBPC3_2021\\Pilot20211011\\IPSC_Plate1\n",
      "100\n",
      "200\n",
      "300\n",
      "400\n",
      "500\n",
      "600\n",
      "700\n",
      "800\n",
      "900\n"
     ]
    },
    {
     "name": "stderr",
     "output_type": "stream",
     "text": [
      "C:\\Users\\PANGJ05\\AppData\\Local\\Temp\\2/ipykernel_15460/1507772537.py:61: RuntimeWarning: invalid value encountered in double_scalars\n",
      "  SC = (norm_term1-norm_term2)*(norm_term1-norm_term2)/(denorm_term1*denorm_term2)\n"
     ]
    },
    {
     "name": "stdout",
     "output_type": "stream",
     "text": [
      "0\n",
      "Y:\\RDRU_MYBPC3_2021\\Pilot20211011_plate1_output\\211011_Brandon_IPSC_Plate1_s003_result1.png\n",
      "2408\n",
      "[ 36 181 282 379 454 552 694 816 891]\n",
      "[106 216 335 402 552 616 727 891]\n",
      "Y:\\RDRU_MYBPC3_2021\\Pilot20211011_plate1_output\\211011_Brandon_IPSC_Plate1_s003_result2.png\n",
      "Y:\\RDRU_MYBPC3_2021\\Pilot20211011\\IPSC_Plate1\\211011_Brandon_IPSC_Plate1_s004\n",
      "Directory  Y:\\RDRU_MYBPC3_2021\\Pilot20211011_plate1_output  already exists\n",
      "Y:\\RDRU_MYBPC3_2021\\Pilot20211011\\IPSC_Plate1\\211011_Brandon_IPSC_Plate1_s004\\211011_Brandon_IPSC_Plate1_s004_video_ds.avi\n",
      "Y:\\RDRU_MYBPC3_2021\\Pilot20211011\\IPSC_Plate1\n",
      "100\n",
      "200\n",
      "300\n",
      "400\n",
      "500\n",
      "600\n",
      "700\n",
      "800\n",
      "900\n"
     ]
    },
    {
     "name": "stderr",
     "output_type": "stream",
     "text": [
      "C:\\Users\\PANGJ05\\AppData\\Local\\Temp\\2/ipykernel_15460/1507772537.py:61: RuntimeWarning: invalid value encountered in double_scalars\n",
      "  SC = (norm_term1-norm_term2)*(norm_term1-norm_term2)/(denorm_term1*denorm_term2)\n"
     ]
    },
    {
     "name": "stdout",
     "output_type": "stream",
     "text": [
      "0\n",
      "Y:\\RDRU_MYBPC3_2021\\Pilot20211011_plate1_output\\211011_Brandon_IPSC_Plate1_s004_result1.png\n",
      "3122\n",
      "[374 426 577 688 743 864]\n",
      "[426 562 605 738 841]\n",
      "Y:\\RDRU_MYBPC3_2021\\Pilot20211011_plate1_output\\211011_Brandon_IPSC_Plate1_s004_result2.png\n",
      "Y:\\RDRU_MYBPC3_2021\\Pilot20211011\\IPSC_Plate1\\211011_Brandon_IPSC_Plate1_s005\n",
      "Directory  Y:\\RDRU_MYBPC3_2021\\Pilot20211011_plate1_output  already exists\n",
      "Y:\\RDRU_MYBPC3_2021\\Pilot20211011\\IPSC_Plate1\\211011_Brandon_IPSC_Plate1_s005\\211011_Brandon_IPSC_Plate1_s005_video_ds.avi\n",
      "Y:\\RDRU_MYBPC3_2021\\Pilot20211011\\IPSC_Plate1\n",
      "100\n",
      "200\n",
      "300\n",
      "400\n",
      "500\n",
      "600\n",
      "700\n",
      "800\n",
      "900\n"
     ]
    },
    {
     "name": "stderr",
     "output_type": "stream",
     "text": [
      "C:\\Users\\PANGJ05\\AppData\\Local\\Temp\\2/ipykernel_15460/1507772537.py:61: RuntimeWarning: invalid value encountered in double_scalars\n",
      "  SC = (norm_term1-norm_term2)*(norm_term1-norm_term2)/(denorm_term1*denorm_term2)\n"
     ]
    },
    {
     "name": "stdout",
     "output_type": "stream",
     "text": [
      "0\n",
      "Y:\\RDRU_MYBPC3_2021\\Pilot20211011_plate1_output\\211011_Brandon_IPSC_Plate1_s005_result1.png\n",
      "2381\n",
      "[294 433 579 725 869]\n",
      "[327 468 610 754]\n",
      "Y:\\RDRU_MYBPC3_2021\\Pilot20211011_plate1_output\\211011_Brandon_IPSC_Plate1_s005_result2.png\n",
      "Y:\\RDRU_MYBPC3_2021\\Pilot20211011\\IPSC_Plate1\\211011_Brandon_IPSC_Plate1_s006\n",
      "Directory  Y:\\RDRU_MYBPC3_2021\\Pilot20211011_plate1_output  already exists\n",
      "Y:\\RDRU_MYBPC3_2021\\Pilot20211011\\IPSC_Plate1\\211011_Brandon_IPSC_Plate1_s006\\211011_Brandon_IPSC_Plate1_s006_video_ds.avi\n",
      "Y:\\RDRU_MYBPC3_2021\\Pilot20211011\\IPSC_Plate1\n",
      "100\n",
      "200\n",
      "300\n",
      "400\n",
      "500\n",
      "600\n",
      "700\n",
      "800\n",
      "900\n"
     ]
    },
    {
     "name": "stderr",
     "output_type": "stream",
     "text": [
      "C:\\Users\\PANGJ05\\AppData\\Local\\Temp\\2/ipykernel_15460/1507772537.py:61: RuntimeWarning: invalid value encountered in double_scalars\n",
      "  SC = (norm_term1-norm_term2)*(norm_term1-norm_term2)/(denorm_term1*denorm_term2)\n"
     ]
    },
    {
     "name": "stdout",
     "output_type": "stream",
     "text": [
      "0\n",
      "Y:\\RDRU_MYBPC3_2021\\Pilot20211011_plate1_output\\211011_Brandon_IPSC_Plate1_s006_result1.png\n",
      "452\n",
      "[338 505 610 762 915]\n",
      "[446 554 690 866]\n",
      "Y:\\RDRU_MYBPC3_2021\\Pilot20211011_plate1_output\\211011_Brandon_IPSC_Plate1_s006_result2.png\n",
      "Y:\\RDRU_MYBPC3_2021\\Pilot20211011\\IPSC_Plate1\\211011_Brandon_IPSC_Plate1_s007\n",
      "Directory  Y:\\RDRU_MYBPC3_2021\\Pilot20211011_plate1_output  already exists\n",
      "Y:\\RDRU_MYBPC3_2021\\Pilot20211011\\IPSC_Plate1\\211011_Brandon_IPSC_Plate1_s007\\211011_Brandon_IPSC_Plate1_s007_video_ds.avi\n",
      "Y:\\RDRU_MYBPC3_2021\\Pilot20211011\\IPSC_Plate1\n",
      "100\n",
      "200\n",
      "300\n",
      "400\n",
      "500\n",
      "600\n",
      "700\n",
      "800\n",
      "900\n"
     ]
    },
    {
     "name": "stderr",
     "output_type": "stream",
     "text": [
      "C:\\Users\\PANGJ05\\AppData\\Local\\Temp\\2/ipykernel_15460/1507772537.py:61: RuntimeWarning: invalid value encountered in double_scalars\n",
      "  SC = (norm_term1-norm_term2)*(norm_term1-norm_term2)/(denorm_term1*denorm_term2)\n"
     ]
    },
    {
     "name": "stdout",
     "output_type": "stream",
     "text": [
      "0\n",
      "Y:\\RDRU_MYBPC3_2021\\Pilot20211011_plate1_output\\211011_Brandon_IPSC_Plate1_s007_result1.png\n",
      "6038\n",
      "[402 509 669 824 924]\n",
      "[438 604 772 924]\n",
      "Y:\\RDRU_MYBPC3_2021\\Pilot20211011_plate1_output\\211011_Brandon_IPSC_Plate1_s007_result2.png\n",
      "Y:\\RDRU_MYBPC3_2021\\Pilot20211011\\IPSC_Plate1\\211011_Brandon_IPSC_Plate1_s008\n",
      "Directory  Y:\\RDRU_MYBPC3_2021\\Pilot20211011_plate1_output  already exists\n",
      "Y:\\RDRU_MYBPC3_2021\\Pilot20211011\\IPSC_Plate1\\211011_Brandon_IPSC_Plate1_s008\\211011_Brandon_IPSC_Plate1_s008_video_ds.avi\n",
      "Y:\\RDRU_MYBPC3_2021\\Pilot20211011\\IPSC_Plate1\n",
      "100\n",
      "200\n",
      "300\n",
      "400\n",
      "500\n",
      "600\n",
      "700\n",
      "800\n",
      "900\n"
     ]
    },
    {
     "name": "stderr",
     "output_type": "stream",
     "text": [
      "C:\\Users\\PANGJ05\\AppData\\Local\\Temp\\2/ipykernel_15460/1507772537.py:61: RuntimeWarning: invalid value encountered in double_scalars\n",
      "  SC = (norm_term1-norm_term2)*(norm_term1-norm_term2)/(denorm_term1*denorm_term2)\n"
     ]
    },
    {
     "name": "stdout",
     "output_type": "stream",
     "text": [
      "0\n",
      "Y:\\RDRU_MYBPC3_2021\\Pilot20211011_plate1_output\\211011_Brandon_IPSC_Plate1_s008_result1.png\n",
      "8131\n",
      "[200 345 491 637 781 927]\n",
      "[236 380 526 670 816]\n",
      "Y:\\RDRU_MYBPC3_2021\\Pilot20211011_plate1_output\\211011_Brandon_IPSC_Plate1_s008_result2.png\n",
      "Y:\\RDRU_MYBPC3_2021\\Pilot20211011\\IPSC_Plate1\\211011_Brandon_IPSC_Plate1_s009\n",
      "Directory  Y:\\RDRU_MYBPC3_2021\\Pilot20211011_plate1_output  already exists\n",
      "Y:\\RDRU_MYBPC3_2021\\Pilot20211011\\IPSC_Plate1\\211011_Brandon_IPSC_Plate1_s009\\211011_Brandon_IPSC_Plate1_s009_video_ds.avi\n",
      "Y:\\RDRU_MYBPC3_2021\\Pilot20211011\\IPSC_Plate1\n",
      "100\n",
      "200\n",
      "300\n",
      "400\n",
      "500\n",
      "600\n",
      "700\n",
      "800\n",
      "900\n"
     ]
    },
    {
     "name": "stderr",
     "output_type": "stream",
     "text": [
      "C:\\Users\\PANGJ05\\AppData\\Local\\Temp\\2/ipykernel_15460/1507772537.py:61: RuntimeWarning: invalid value encountered in double_scalars\n",
      "  SC = (norm_term1-norm_term2)*(norm_term1-norm_term2)/(denorm_term1*denorm_term2)\n"
     ]
    },
    {
     "name": "stdout",
     "output_type": "stream",
     "text": [
      "0\n",
      "Y:\\RDRU_MYBPC3_2021\\Pilot20211011_plate1_output\\211011_Brandon_IPSC_Plate1_s009_result1.png\n",
      "12775\n",
      "[227 416 562 684 868]\n",
      "[308 432 622 776]\n",
      "Y:\\RDRU_MYBPC3_2021\\Pilot20211011_plate1_output\\211011_Brandon_IPSC_Plate1_s009_result2.png\n",
      "Y:\\RDRU_MYBPC3_2021\\Pilot20211011\\IPSC_Plate1\\211011_Brandon_IPSC_Plate1_s010\n",
      "Directory  Y:\\RDRU_MYBPC3_2021\\Pilot20211011_plate1_output  already exists\n",
      "Y:\\RDRU_MYBPC3_2021\\Pilot20211011\\IPSC_Plate1\\211011_Brandon_IPSC_Plate1_s010\\211011_Brandon_IPSC_Plate1_s010_video_ds.avi\n",
      "Y:\\RDRU_MYBPC3_2021\\Pilot20211011\\IPSC_Plate1\n",
      "100\n",
      "200\n",
      "300\n",
      "400\n",
      "500\n",
      "600\n",
      "700\n",
      "800\n",
      "900\n"
     ]
    },
    {
     "name": "stderr",
     "output_type": "stream",
     "text": [
      "C:\\Users\\PANGJ05\\AppData\\Local\\Temp\\2/ipykernel_15460/1507772537.py:61: RuntimeWarning: invalid value encountered in double_scalars\n",
      "  SC = (norm_term1-norm_term2)*(norm_term1-norm_term2)/(denorm_term1*denorm_term2)\n"
     ]
    },
    {
     "name": "stdout",
     "output_type": "stream",
     "text": [
      "0\n",
      "Y:\\RDRU_MYBPC3_2021\\Pilot20211011_plate1_output\\211011_Brandon_IPSC_Plate1_s010_result1.png\n",
      "1191\n",
      "[186 354 524 715 880]\n",
      "[110 259 389 591 797]\n",
      "Y:\\RDRU_MYBPC3_2021\\Pilot20211011_plate1_output\\211011_Brandon_IPSC_Plate1_s010_result2.png\n",
      "Y:\\RDRU_MYBPC3_2021\\Pilot20211011\\IPSC_Plate1\\211011_Brandon_IPSC_Plate1_s011\n",
      "Directory  Y:\\RDRU_MYBPC3_2021\\Pilot20211011_plate1_output  already exists\n",
      "Y:\\RDRU_MYBPC3_2021\\Pilot20211011\\IPSC_Plate1\\211011_Brandon_IPSC_Plate1_s011\\211011_Brandon_IPSC_Plate1_s011_video_ds.avi\n",
      "Y:\\RDRU_MYBPC3_2021\\Pilot20211011\\IPSC_Plate1\n",
      "100\n",
      "200\n",
      "300\n",
      "400\n",
      "500\n",
      "600\n",
      "700\n",
      "800\n",
      "900\n"
     ]
    },
    {
     "name": "stderr",
     "output_type": "stream",
     "text": [
      "C:\\Users\\PANGJ05\\AppData\\Local\\Temp\\2/ipykernel_15460/1507772537.py:61: RuntimeWarning: invalid value encountered in double_scalars\n",
      "  SC = (norm_term1-norm_term2)*(norm_term1-norm_term2)/(denorm_term1*denorm_term2)\n"
     ]
    },
    {
     "name": "stdout",
     "output_type": "stream",
     "text": [
      "0\n",
      "Y:\\RDRU_MYBPC3_2021\\Pilot20211011_plate1_output\\211011_Brandon_IPSC_Plate1_s011_result1.png\n",
      "6817\n",
      "[128 321 478 628 775 912]\n",
      "[254 405 514 655 827]\n",
      "Y:\\RDRU_MYBPC3_2021\\Pilot20211011_plate1_output\\211011_Brandon_IPSC_Plate1_s011_result2.png\n",
      "Y:\\RDRU_MYBPC3_2021\\Pilot20211011\\IPSC_Plate1\\211011_Brandon_IPSC_Plate1_s012\n",
      "Directory  Y:\\RDRU_MYBPC3_2021\\Pilot20211011_plate1_output  already exists\n",
      "Y:\\RDRU_MYBPC3_2021\\Pilot20211011\\IPSC_Plate1\\211011_Brandon_IPSC_Plate1_s012\\211011_Brandon_IPSC_Plate1_s012_video_ds.avi\n",
      "Y:\\RDRU_MYBPC3_2021\\Pilot20211011\\IPSC_Plate1\n",
      "100\n",
      "200\n",
      "300\n",
      "400\n",
      "500\n",
      "600\n",
      "700\n",
      "800\n",
      "900\n"
     ]
    },
    {
     "name": "stderr",
     "output_type": "stream",
     "text": [
      "C:\\Users\\PANGJ05\\AppData\\Local\\Temp\\2/ipykernel_15460/1507772537.py:61: RuntimeWarning: invalid value encountered in double_scalars\n",
      "  SC = (norm_term1-norm_term2)*(norm_term1-norm_term2)/(denorm_term1*denorm_term2)\n"
     ]
    },
    {
     "name": "stdout",
     "output_type": "stream",
     "text": [
      "0\n",
      "Y:\\RDRU_MYBPC3_2021\\Pilot20211011_plate1_output\\211011_Brandon_IPSC_Plate1_s012_result1.png\n",
      "5177\n",
      "[120 272 471 615 801]\n",
      "[189 334 498 675 845]\n",
      "Y:\\RDRU_MYBPC3_2021\\Pilot20211011_plate1_output\\211011_Brandon_IPSC_Plate1_s012_result2.png\n",
      "Y:\\RDRU_MYBPC3_2021\\Pilot20211011\\IPSC_Plate1\\211011_Brandon_IPSC_Plate1_s013\n",
      "Directory  Y:\\RDRU_MYBPC3_2021\\Pilot20211011_plate1_output  already exists\n",
      "Y:\\RDRU_MYBPC3_2021\\Pilot20211011\\IPSC_Plate1\\211011_Brandon_IPSC_Plate1_s013\\211011_Brandon_IPSC_Plate1_s013_video_ds.avi\n",
      "Y:\\RDRU_MYBPC3_2021\\Pilot20211011\\IPSC_Plate1\n",
      "100\n",
      "200\n",
      "300\n",
      "400\n",
      "500\n",
      "600\n",
      "700\n",
      "800\n",
      "900\n"
     ]
    },
    {
     "name": "stderr",
     "output_type": "stream",
     "text": [
      "C:\\Users\\PANGJ05\\AppData\\Local\\Temp\\2/ipykernel_15460/1507772537.py:61: RuntimeWarning: invalid value encountered in double_scalars\n",
      "  SC = (norm_term1-norm_term2)*(norm_term1-norm_term2)/(denorm_term1*denorm_term2)\n"
     ]
    },
    {
     "name": "stdout",
     "output_type": "stream",
     "text": [
      "0\n",
      "Y:\\RDRU_MYBPC3_2021\\Pilot20211011_plate1_output\\211011_Brandon_IPSC_Plate1_s013_result1.png\n",
      "29749\n",
      "[172 304 432 588 736 878]\n",
      "[195 327 453 605 755]\n",
      "Y:\\RDRU_MYBPC3_2021\\Pilot20211011_plate1_output\\211011_Brandon_IPSC_Plate1_s013_result2.png\n",
      "Y:\\RDRU_MYBPC3_2021\\Pilot20211011\\IPSC_Plate1\\211011_Brandon_IPSC_Plate1_s014\n",
      "Directory  Y:\\RDRU_MYBPC3_2021\\Pilot20211011_plate1_output  already exists\n",
      "Y:\\RDRU_MYBPC3_2021\\Pilot20211011\\IPSC_Plate1\\211011_Brandon_IPSC_Plate1_s014\\211011_Brandon_IPSC_Plate1_s014_video_ds.avi\n",
      "Y:\\RDRU_MYBPC3_2021\\Pilot20211011\\IPSC_Plate1\n",
      "100\n",
      "200\n",
      "300\n",
      "400\n",
      "500\n",
      "600\n",
      "700\n",
      "800\n",
      "900\n"
     ]
    },
    {
     "name": "stderr",
     "output_type": "stream",
     "text": [
      "C:\\Users\\PANGJ05\\AppData\\Local\\Temp\\2/ipykernel_15460/1507772537.py:61: RuntimeWarning: invalid value encountered in double_scalars\n",
      "  SC = (norm_term1-norm_term2)*(norm_term1-norm_term2)/(denorm_term1*denorm_term2)\n"
     ]
    },
    {
     "name": "stdout",
     "output_type": "stream",
     "text": [
      "0\n",
      "Y:\\RDRU_MYBPC3_2021\\Pilot20211011_plate1_output\\211011_Brandon_IPSC_Plate1_s014_result1.png\n",
      "2293\n",
      "[ 97 238 371 523 673 819]\n",
      "[130 266 404 552 696 842]\n",
      "Y:\\RDRU_MYBPC3_2021\\Pilot20211011_plate1_output\\211011_Brandon_IPSC_Plate1_s014_result2.png\n",
      "Y:\\RDRU_MYBPC3_2021\\Pilot20211011\\IPSC_Plate1\\211011_Brandon_IPSC_Plate1_s015\n",
      "Directory  Y:\\RDRU_MYBPC3_2021\\Pilot20211011_plate1_output  already exists\n",
      "Y:\\RDRU_MYBPC3_2021\\Pilot20211011\\IPSC_Plate1\\211011_Brandon_IPSC_Plate1_s015\\211011_Brandon_IPSC_Plate1_s015_video_ds.avi\n",
      "Y:\\RDRU_MYBPC3_2021\\Pilot20211011\\IPSC_Plate1\n",
      "100\n",
      "200\n",
      "300\n",
      "400\n",
      "500\n",
      "600\n",
      "700\n",
      "800\n",
      "900\n"
     ]
    },
    {
     "name": "stderr",
     "output_type": "stream",
     "text": [
      "C:\\Users\\PANGJ05\\AppData\\Local\\Temp\\2/ipykernel_15460/1507772537.py:61: RuntimeWarning: invalid value encountered in double_scalars\n",
      "  SC = (norm_term1-norm_term2)*(norm_term1-norm_term2)/(denorm_term1*denorm_term2)\n"
     ]
    },
    {
     "name": "stdout",
     "output_type": "stream",
     "text": [
      "0\n",
      "Y:\\RDRU_MYBPC3_2021\\Pilot20211011_plate1_output\\211011_Brandon_IPSC_Plate1_s015_result1.png\n",
      "5125\n",
      "[159 299 427 567 707 836]\n",
      "[ 48 186 382 502 661 730]\n",
      "Y:\\RDRU_MYBPC3_2021\\Pilot20211011_plate1_output\\211011_Brandon_IPSC_Plate1_s015_result2.png\n",
      "Y:\\RDRU_MYBPC3_2021\\Pilot20211011\\IPSC_Plate1\\211011_Brandon_IPSC_Plate1_s016\n",
      "Directory  Y:\\RDRU_MYBPC3_2021\\Pilot20211011_plate1_output  already exists\n",
      "Y:\\RDRU_MYBPC3_2021\\Pilot20211011\\IPSC_Plate1\\211011_Brandon_IPSC_Plate1_s016\\211011_Brandon_IPSC_Plate1_s016_video_ds.avi\n",
      "Y:\\RDRU_MYBPC3_2021\\Pilot20211011\\IPSC_Plate1\n",
      "100\n",
      "200\n",
      "300\n",
      "400\n",
      "500\n",
      "600\n",
      "700\n",
      "800\n",
      "900\n"
     ]
    },
    {
     "name": "stderr",
     "output_type": "stream",
     "text": [
      "C:\\Users\\PANGJ05\\AppData\\Local\\Temp\\2/ipykernel_15460/1507772537.py:61: RuntimeWarning: invalid value encountered in double_scalars\n",
      "  SC = (norm_term1-norm_term2)*(norm_term1-norm_term2)/(denorm_term1*denorm_term2)\n"
     ]
    },
    {
     "name": "stdout",
     "output_type": "stream",
     "text": [
      "0\n",
      "Y:\\RDRU_MYBPC3_2021\\Pilot20211011_plate1_output\\211011_Brandon_IPSC_Plate1_s016_result1.png\n",
      "2251\n",
      "[ 85 256 410 574 737 902]\n",
      "[114 278 439 598 762]\n",
      "Y:\\RDRU_MYBPC3_2021\\Pilot20211011_plate1_output\\211011_Brandon_IPSC_Plate1_s016_result2.png\n",
      "Y:\\RDRU_MYBPC3_2021\\Pilot20211011\\IPSC_Plate1\\211011_Brandon_IPSC_Plate1_s017\n",
      "Directory  Y:\\RDRU_MYBPC3_2021\\Pilot20211011_plate1_output  already exists\n",
      "Y:\\RDRU_MYBPC3_2021\\Pilot20211011\\IPSC_Plate1\\211011_Brandon_IPSC_Plate1_s017\\211011_Brandon_IPSC_Plate1_s017_video_ds.avi\n",
      "Y:\\RDRU_MYBPC3_2021\\Pilot20211011\\IPSC_Plate1\n",
      "100\n",
      "200\n",
      "300\n",
      "400\n",
      "500\n",
      "600\n",
      "700\n",
      "800\n",
      "900\n"
     ]
    },
    {
     "name": "stderr",
     "output_type": "stream",
     "text": [
      "C:\\Users\\PANGJ05\\AppData\\Local\\Temp\\2/ipykernel_15460/1507772537.py:61: RuntimeWarning: invalid value encountered in double_scalars\n",
      "  SC = (norm_term1-norm_term2)*(norm_term1-norm_term2)/(denorm_term1*denorm_term2)\n"
     ]
    },
    {
     "name": "stdout",
     "output_type": "stream",
     "text": [
      "0\n",
      "Y:\\RDRU_MYBPC3_2021\\Pilot20211011_plate1_output\\211011_Brandon_IPSC_Plate1_s017_result1.png\n",
      "12361\n",
      "[177 328 482 645 804]\n",
      "[ 53 204 357 513 674 835]\n",
      "Y:\\RDRU_MYBPC3_2021\\Pilot20211011_plate1_output\\211011_Brandon_IPSC_Plate1_s017_result2.png\n",
      "Y:\\RDRU_MYBPC3_2021\\Pilot20211011\\IPSC_Plate1\\211011_Brandon_IPSC_Plate1_s018\n",
      "Directory  Y:\\RDRU_MYBPC3_2021\\Pilot20211011_plate1_output  already exists\n",
      "Y:\\RDRU_MYBPC3_2021\\Pilot20211011\\IPSC_Plate1\\211011_Brandon_IPSC_Plate1_s018\\211011_Brandon_IPSC_Plate1_s018_video_ds.avi\n",
      "Y:\\RDRU_MYBPC3_2021\\Pilot20211011\\IPSC_Plate1\n",
      "100\n",
      "200\n",
      "300\n",
      "400\n",
      "500\n",
      "600\n",
      "700\n",
      "800\n",
      "900\n"
     ]
    },
    {
     "name": "stderr",
     "output_type": "stream",
     "text": [
      "C:\\Users\\PANGJ05\\AppData\\Local\\Temp\\2/ipykernel_15460/1507772537.py:61: RuntimeWarning: invalid value encountered in double_scalars\n",
      "  SC = (norm_term1-norm_term2)*(norm_term1-norm_term2)/(denorm_term1*denorm_term2)\n"
     ]
    },
    {
     "name": "stdout",
     "output_type": "stream",
     "text": [
      "0\n",
      "Y:\\RDRU_MYBPC3_2021\\Pilot20211011_plate1_output\\211011_Brandon_IPSC_Plate1_s018_result1.png\n",
      "8027\n",
      "[231 387 547 703 871]\n",
      "[256 418 582 740]\n",
      "Y:\\RDRU_MYBPC3_2021\\Pilot20211011_plate1_output\\211011_Brandon_IPSC_Plate1_s018_result2.png\n",
      "Y:\\RDRU_MYBPC3_2021\\Pilot20211011\\IPSC_Plate1\\211011_Brandon_IPSC_Plate1_s019\n",
      "Directory  Y:\\RDRU_MYBPC3_2021\\Pilot20211011_plate1_output  already exists\n",
      "Y:\\RDRU_MYBPC3_2021\\Pilot20211011\\IPSC_Plate1\\211011_Brandon_IPSC_Plate1_s019\\211011_Brandon_IPSC_Plate1_s019_video_ds.avi\n",
      "Y:\\RDRU_MYBPC3_2021\\Pilot20211011\\IPSC_Plate1\n",
      "100\n",
      "200\n",
      "300\n",
      "400\n",
      "500\n",
      "600\n",
      "700\n",
      "800\n",
      "900\n"
     ]
    },
    {
     "name": "stderr",
     "output_type": "stream",
     "text": [
      "C:\\Users\\PANGJ05\\AppData\\Local\\Temp\\2/ipykernel_15460/1507772537.py:61: RuntimeWarning: invalid value encountered in double_scalars\n",
      "  SC = (norm_term1-norm_term2)*(norm_term1-norm_term2)/(denorm_term1*denorm_term2)\n"
     ]
    },
    {
     "name": "stdout",
     "output_type": "stream",
     "text": [
      "0\n",
      "Y:\\RDRU_MYBPC3_2021\\Pilot20211011_plate1_output\\211011_Brandon_IPSC_Plate1_s019_result1.png\n",
      "2043\n",
      "[107 262 417 579 731 887]\n",
      "[141 297 451 604 763]\n",
      "Y:\\RDRU_MYBPC3_2021\\Pilot20211011_plate1_output\\211011_Brandon_IPSC_Plate1_s019_result2.png\n",
      "Y:\\RDRU_MYBPC3_2021\\Pilot20211011\\IPSC_Plate1\\211011_Brandon_IPSC_Plate1_s020\n",
      "Directory  Y:\\RDRU_MYBPC3_2021\\Pilot20211011_plate1_output  already exists\n",
      "Y:\\RDRU_MYBPC3_2021\\Pilot20211011\\IPSC_Plate1\\211011_Brandon_IPSC_Plate1_s020\\211011_Brandon_IPSC_Plate1_s020_video_ds.avi\n",
      "Y:\\RDRU_MYBPC3_2021\\Pilot20211011\\IPSC_Plate1\n",
      "100\n",
      "200\n",
      "300\n",
      "400\n",
      "500\n",
      "600\n",
      "700\n",
      "800\n",
      "900\n"
     ]
    },
    {
     "name": "stderr",
     "output_type": "stream",
     "text": [
      "C:\\Users\\PANGJ05\\AppData\\Local\\Temp\\2/ipykernel_15460/1507772537.py:61: RuntimeWarning: invalid value encountered in double_scalars\n",
      "  SC = (norm_term1-norm_term2)*(norm_term1-norm_term2)/(denorm_term1*denorm_term2)\n"
     ]
    },
    {
     "name": "stdout",
     "output_type": "stream",
     "text": [
      "0\n",
      "Y:\\RDRU_MYBPC3_2021\\Pilot20211011_plate1_output\\211011_Brandon_IPSC_Plate1_s020_result1.png\n",
      "9787\n",
      "[279 416 564 728 880]\n",
      "[296 483 635 774]\n",
      "Y:\\RDRU_MYBPC3_2021\\Pilot20211011_plate1_output\\211011_Brandon_IPSC_Plate1_s020_result2.png\n",
      "Y:\\RDRU_MYBPC3_2021\\Pilot20211011\\IPSC_Plate1\\211011_Brandon_IPSC_Plate1_s021\n",
      "Directory  Y:\\RDRU_MYBPC3_2021\\Pilot20211011_plate1_output  already exists\n",
      "Y:\\RDRU_MYBPC3_2021\\Pilot20211011\\IPSC_Plate1\\211011_Brandon_IPSC_Plate1_s021\\211011_Brandon_IPSC_Plate1_s021_video_ds.avi\n",
      "Y:\\RDRU_MYBPC3_2021\\Pilot20211011\\IPSC_Plate1\n",
      "100\n",
      "200\n",
      "300\n",
      "400\n",
      "500\n",
      "600\n",
      "700\n",
      "800\n",
      "900\n"
     ]
    },
    {
     "name": "stderr",
     "output_type": "stream",
     "text": [
      "C:\\Users\\PANGJ05\\AppData\\Local\\Temp\\2/ipykernel_15460/1507772537.py:61: RuntimeWarning: invalid value encountered in double_scalars\n",
      "  SC = (norm_term1-norm_term2)*(norm_term1-norm_term2)/(denorm_term1*denorm_term2)\n"
     ]
    },
    {
     "name": "stdout",
     "output_type": "stream",
     "text": [
      "0\n",
      "Y:\\RDRU_MYBPC3_2021\\Pilot20211011_plate1_output\\211011_Brandon_IPSC_Plate1_s021_result1.png\n",
      "3357\n",
      "[ 71 246 390 547 703 858]\n",
      "[ 97 259 417 579 737]\n",
      "Y:\\RDRU_MYBPC3_2021\\Pilot20211011_plate1_output\\211011_Brandon_IPSC_Plate1_s021_result2.png\n",
      "Y:\\RDRU_MYBPC3_2021\\Pilot20211011\\IPSC_Plate1\\211011_Brandon_IPSC_Plate1_s022\n",
      "Directory  Y:\\RDRU_MYBPC3_2021\\Pilot20211011_plate1_output  already exists\n",
      "Y:\\RDRU_MYBPC3_2021\\Pilot20211011\\IPSC_Plate1\\211011_Brandon_IPSC_Plate1_s022\\211011_Brandon_IPSC_Plate1_s022_video_ds.avi\n",
      "Y:\\RDRU_MYBPC3_2021\\Pilot20211011\\IPSC_Plate1\n",
      "100\n",
      "200\n",
      "300\n",
      "400\n",
      "500\n",
      "600\n",
      "700\n",
      "800\n",
      "900\n"
     ]
    },
    {
     "name": "stderr",
     "output_type": "stream",
     "text": [
      "C:\\Users\\PANGJ05\\AppData\\Local\\Temp\\2/ipykernel_15460/1507772537.py:61: RuntimeWarning: invalid value encountered in double_scalars\n",
      "  SC = (norm_term1-norm_term2)*(norm_term1-norm_term2)/(denorm_term1*denorm_term2)\n"
     ]
    },
    {
     "name": "stdout",
     "output_type": "stream",
     "text": [
      "0\n",
      "Y:\\RDRU_MYBPC3_2021\\Pilot20211011_plate1_output\\211011_Brandon_IPSC_Plate1_s022_result1.png\n",
      "4933\n",
      "[113 266 427 589 745 907]\n",
      "[140 296 458 616 776]\n",
      "Y:\\RDRU_MYBPC3_2021\\Pilot20211011_plate1_output\\211011_Brandon_IPSC_Plate1_s022_result2.png\n",
      "Y:\\RDRU_MYBPC3_2021\\Pilot20211011\\IPSC_Plate1\\211011_Brandon_IPSC_Plate1_s023\n",
      "Directory  Y:\\RDRU_MYBPC3_2021\\Pilot20211011_plate1_output  already exists\n",
      "Y:\\RDRU_MYBPC3_2021\\Pilot20211011\\IPSC_Plate1\\211011_Brandon_IPSC_Plate1_s023\\211011_Brandon_IPSC_Plate1_s023_video_ds.avi\n",
      "Y:\\RDRU_MYBPC3_2021\\Pilot20211011\\IPSC_Plate1\n",
      "100\n",
      "200\n",
      "300\n",
      "400\n",
      "500\n",
      "600\n",
      "700\n",
      "800\n",
      "900\n"
     ]
    },
    {
     "name": "stderr",
     "output_type": "stream",
     "text": [
      "C:\\Users\\PANGJ05\\AppData\\Local\\Temp\\2/ipykernel_15460/1507772537.py:61: RuntimeWarning: invalid value encountered in double_scalars\n",
      "  SC = (norm_term1-norm_term2)*(norm_term1-norm_term2)/(denorm_term1*denorm_term2)\n"
     ]
    },
    {
     "name": "stdout",
     "output_type": "stream",
     "text": [
      "0\n",
      "Y:\\RDRU_MYBPC3_2021\\Pilot20211011_plate1_output\\211011_Brandon_IPSC_Plate1_s023_result1.png\n",
      "8752\n",
      "[100 302 471 620 793 895]\n",
      "[188 352 515 677 810]\n",
      "Y:\\RDRU_MYBPC3_2021\\Pilot20211011_plate1_output\\211011_Brandon_IPSC_Plate1_s023_result2.png\n",
      "Y:\\RDRU_MYBPC3_2021\\Pilot20211011\\IPSC_Plate1\\211011_Brandon_IPSC_Plate1_s024\n",
      "Directory  Y:\\RDRU_MYBPC3_2021\\Pilot20211011_plate1_output  already exists\n",
      "Y:\\RDRU_MYBPC3_2021\\Pilot20211011\\IPSC_Plate1\\211011_Brandon_IPSC_Plate1_s024\\211011_Brandon_IPSC_Plate1_s024_video_ds.avi\n",
      "Y:\\RDRU_MYBPC3_2021\\Pilot20211011\\IPSC_Plate1\n",
      "100\n",
      "200\n",
      "300\n",
      "400\n",
      "500\n",
      "600\n",
      "700\n",
      "800\n",
      "900\n"
     ]
    },
    {
     "name": "stderr",
     "output_type": "stream",
     "text": [
      "C:\\Users\\PANGJ05\\AppData\\Local\\Temp\\2/ipykernel_15460/1507772537.py:61: RuntimeWarning: invalid value encountered in double_scalars\n",
      "  SC = (norm_term1-norm_term2)*(norm_term1-norm_term2)/(denorm_term1*denorm_term2)\n"
     ]
    },
    {
     "name": "stdout",
     "output_type": "stream",
     "text": [
      "0\n",
      "Y:\\RDRU_MYBPC3_2021\\Pilot20211011_plate1_output\\211011_Brandon_IPSC_Plate1_s024_result1.png\n",
      "12831\n",
      "[183 375 498 684 809]\n",
      "[240 398 555 707 846]\n",
      "Y:\\RDRU_MYBPC3_2021\\Pilot20211011_plate1_output\\211011_Brandon_IPSC_Plate1_s024_result2.png\n",
      "Y:\\RDRU_MYBPC3_2021\\Pilot20211011\\IPSC_Plate1\\211011_Brandon_IPSC_Plate1_s025\n",
      "Directory  Y:\\RDRU_MYBPC3_2021\\Pilot20211011_plate1_output  already exists\n",
      "Y:\\RDRU_MYBPC3_2021\\Pilot20211011\\IPSC_Plate1\\211011_Brandon_IPSC_Plate1_s025\\211011_Brandon_IPSC_Plate1_s025_video_ds.avi\n",
      "Y:\\RDRU_MYBPC3_2021\\Pilot20211011\\IPSC_Plate1\n",
      "100\n",
      "200\n",
      "300\n",
      "400\n",
      "500\n",
      "600\n",
      "700\n",
      "800\n",
      "900\n"
     ]
    },
    {
     "name": "stderr",
     "output_type": "stream",
     "text": [
      "C:\\Users\\PANGJ05\\AppData\\Local\\Temp\\2/ipykernel_15460/1507772537.py:61: RuntimeWarning: invalid value encountered in double_scalars\n",
      "  SC = (norm_term1-norm_term2)*(norm_term1-norm_term2)/(denorm_term1*denorm_term2)\n"
     ]
    },
    {
     "name": "stdout",
     "output_type": "stream",
     "text": [
      "0\n",
      "Y:\\RDRU_MYBPC3_2021\\Pilot20211011_plate1_output\\211011_Brandon_IPSC_Plate1_s025_result1.png\n",
      "20715\n",
      "[ 61 203 351 495 642 790]\n",
      "[ 95 238 384 530 677 824]\n",
      "Y:\\RDRU_MYBPC3_2021\\Pilot20211011_plate1_output\\211011_Brandon_IPSC_Plate1_s025_result2.png\n",
      "Y:\\RDRU_MYBPC3_2021\\Pilot20211011\\IPSC_Plate1\\211011_Brandon_IPSC_Plate1_s026\n",
      "Directory  Y:\\RDRU_MYBPC3_2021\\Pilot20211011_plate1_output  already exists\n",
      "Y:\\RDRU_MYBPC3_2021\\Pilot20211011\\IPSC_Plate1\\211011_Brandon_IPSC_Plate1_s026\\211011_Brandon_IPSC_Plate1_s026_video_ds.avi\n",
      "Y:\\RDRU_MYBPC3_2021\\Pilot20211011\\IPSC_Plate1\n",
      "100\n",
      "200\n",
      "300\n",
      "400\n",
      "500\n",
      "600\n",
      "700\n",
      "800\n",
      "900\n"
     ]
    },
    {
     "name": "stderr",
     "output_type": "stream",
     "text": [
      "C:\\Users\\PANGJ05\\AppData\\Local\\Temp\\2/ipykernel_15460/1507772537.py:61: RuntimeWarning: invalid value encountered in double_scalars\n",
      "  SC = (norm_term1-norm_term2)*(norm_term1-norm_term2)/(denorm_term1*denorm_term2)\n"
     ]
    },
    {
     "name": "stdout",
     "output_type": "stream",
     "text": [
      "0\n",
      "Y:\\RDRU_MYBPC3_2021\\Pilot20211011_plate1_output\\211011_Brandon_IPSC_Plate1_s026_result1.png\n",
      "5121\n",
      "[168 318 470 617 773 932]\n",
      "[ 57 202 352 498 650 803]\n",
      "Y:\\RDRU_MYBPC3_2021\\Pilot20211011_plate1_output\\211011_Brandon_IPSC_Plate1_s026_result2.png\n",
      "Y:\\RDRU_MYBPC3_2021\\Pilot20211011\\IPSC_Plate1\\211011_Brandon_IPSC_Plate1_s027\n",
      "Directory  Y:\\RDRU_MYBPC3_2021\\Pilot20211011_plate1_output  already exists\n",
      "Y:\\RDRU_MYBPC3_2021\\Pilot20211011\\IPSC_Plate1\\211011_Brandon_IPSC_Plate1_s027\\211011_Brandon_IPSC_Plate1_s027_video_ds.avi\n",
      "Y:\\RDRU_MYBPC3_2021\\Pilot20211011\\IPSC_Plate1\n",
      "100\n",
      "200\n",
      "300\n",
      "400\n",
      "500\n",
      "600\n",
      "700\n",
      "800\n",
      "900\n"
     ]
    },
    {
     "name": "stderr",
     "output_type": "stream",
     "text": [
      "C:\\Users\\PANGJ05\\AppData\\Local\\Temp\\2/ipykernel_15460/1507772537.py:61: RuntimeWarning: invalid value encountered in double_scalars\n",
      "  SC = (norm_term1-norm_term2)*(norm_term1-norm_term2)/(denorm_term1*denorm_term2)\n"
     ]
    },
    {
     "name": "stdout",
     "output_type": "stream",
     "text": [
      "0\n",
      "Y:\\RDRU_MYBPC3_2021\\Pilot20211011_plate1_output\\211011_Brandon_IPSC_Plate1_s027_result1.png\n",
      "15224\n",
      "[163 306 463 597 747 902]\n",
      "[ 38 189 338 489 618 769]\n",
      "Y:\\RDRU_MYBPC3_2021\\Pilot20211011_plate1_output\\211011_Brandon_IPSC_Plate1_s027_result2.png\n",
      "Y:\\RDRU_MYBPC3_2021\\Pilot20211011\\IPSC_Plate1\\211011_Brandon_IPSC_Plate1_s028\n",
      "Directory  Y:\\RDRU_MYBPC3_2021\\Pilot20211011_plate1_output  already exists\n",
      "Y:\\RDRU_MYBPC3_2021\\Pilot20211011\\IPSC_Plate1\\211011_Brandon_IPSC_Plate1_s028\\211011_Brandon_IPSC_Plate1_s028_video_ds.avi\n",
      "Y:\\RDRU_MYBPC3_2021\\Pilot20211011\\IPSC_Plate1\n",
      "100\n",
      "200\n",
      "300\n",
      "400\n",
      "500\n",
      "600\n",
      "700\n",
      "800\n",
      "900\n"
     ]
    },
    {
     "name": "stderr",
     "output_type": "stream",
     "text": [
      "C:\\Users\\PANGJ05\\AppData\\Local\\Temp\\2/ipykernel_15460/1507772537.py:61: RuntimeWarning: invalid value encountered in double_scalars\n",
      "  SC = (norm_term1-norm_term2)*(norm_term1-norm_term2)/(denorm_term1*denorm_term2)\n"
     ]
    },
    {
     "name": "stdout",
     "output_type": "stream",
     "text": [
      "0\n",
      "Y:\\RDRU_MYBPC3_2021\\Pilot20211011_plate1_output\\211011_Brandon_IPSC_Plate1_s028_result1.png\n",
      "14331\n",
      "[106 237 371 534 628 778 923]\n",
      "[154 268 381 579 712 850]\n",
      "Y:\\RDRU_MYBPC3_2021\\Pilot20211011_plate1_output\\211011_Brandon_IPSC_Plate1_s028_result2.png\n",
      "Y:\\RDRU_MYBPC3_2021\\Pilot20211011\\IPSC_Plate1\\211011_Brandon_IPSC_Plate1_s029\n",
      "Directory  Y:\\RDRU_MYBPC3_2021\\Pilot20211011_plate1_output  already exists\n",
      "Y:\\RDRU_MYBPC3_2021\\Pilot20211011\\IPSC_Plate1\\211011_Brandon_IPSC_Plate1_s029\\211011_Brandon_IPSC_Plate1_s029_video_ds.avi\n",
      "Y:\\RDRU_MYBPC3_2021\\Pilot20211011\\IPSC_Plate1\n",
      "100\n",
      "200\n",
      "300\n",
      "400\n",
      "500\n",
      "600\n",
      "700\n",
      "800\n",
      "900\n"
     ]
    },
    {
     "name": "stderr",
     "output_type": "stream",
     "text": [
      "C:\\Users\\PANGJ05\\AppData\\Local\\Temp\\2/ipykernel_15460/1507772537.py:61: RuntimeWarning: invalid value encountered in double_scalars\n",
      "  SC = (norm_term1-norm_term2)*(norm_term1-norm_term2)/(denorm_term1*denorm_term2)\n"
     ]
    },
    {
     "name": "stdout",
     "output_type": "stream",
     "text": [
      "0\n",
      "Y:\\RDRU_MYBPC3_2021\\Pilot20211011_plate1_output\\211011_Brandon_IPSC_Plate1_s029_result1.png\n",
      "15371\n",
      "[133 263 395 530 665 794]\n",
      "[ 37 166 298 435 561 693 826]\n",
      "Y:\\RDRU_MYBPC3_2021\\Pilot20211011_plate1_output\\211011_Brandon_IPSC_Plate1_s029_result2.png\n",
      "Y:\\RDRU_MYBPC3_2021\\Pilot20211011\\IPSC_Plate1\\211011_Brandon_IPSC_Plate1_s030\n",
      "Directory  Y:\\RDRU_MYBPC3_2021\\Pilot20211011_plate1_output  already exists\n",
      "Y:\\RDRU_MYBPC3_2021\\Pilot20211011\\IPSC_Plate1\\211011_Brandon_IPSC_Plate1_s030\\211011_Brandon_IPSC_Plate1_s030_video_ds.avi\n",
      "Y:\\RDRU_MYBPC3_2021\\Pilot20211011\\IPSC_Plate1\n",
      "100\n",
      "200\n",
      "300\n",
      "400\n",
      "500\n",
      "600\n",
      "700\n",
      "800\n",
      "900\n"
     ]
    },
    {
     "name": "stderr",
     "output_type": "stream",
     "text": [
      "C:\\Users\\PANGJ05\\AppData\\Local\\Temp\\2/ipykernel_15460/1507772537.py:61: RuntimeWarning: invalid value encountered in double_scalars\n",
      "  SC = (norm_term1-norm_term2)*(norm_term1-norm_term2)/(denorm_term1*denorm_term2)\n"
     ]
    },
    {
     "name": "stdout",
     "output_type": "stream",
     "text": [
      "0\n",
      "Y:\\RDRU_MYBPC3_2021\\Pilot20211011_plate1_output\\211011_Brandon_IPSC_Plate1_s030_result1.png\n",
      "11808\n",
      "[ 95 210 362 462 608 710 889]\n",
      "[123 288 416 544 676 804]\n",
      "Y:\\RDRU_MYBPC3_2021\\Pilot20211011_plate1_output\\211011_Brandon_IPSC_Plate1_s030_result2.png\n",
      "Y:\\RDRU_MYBPC3_2021\\Pilot20211011\\IPSC_Plate1\\211011_Brandon_IPSC_Plate1_s031\n",
      "Directory  Y:\\RDRU_MYBPC3_2021\\Pilot20211011_plate1_output  already exists\n",
      "Y:\\RDRU_MYBPC3_2021\\Pilot20211011\\IPSC_Plate1\\211011_Brandon_IPSC_Plate1_s031\\211011_Brandon_IPSC_Plate1_s031_video_ds.avi\n",
      "Y:\\RDRU_MYBPC3_2021\\Pilot20211011\\IPSC_Plate1\n",
      "100\n",
      "200\n",
      "300\n",
      "400\n",
      "500\n",
      "600\n",
      "700\n",
      "800\n",
      "900\n"
     ]
    },
    {
     "name": "stderr",
     "output_type": "stream",
     "text": [
      "C:\\Users\\PANGJ05\\AppData\\Local\\Temp\\2/ipykernel_15460/1507772537.py:61: RuntimeWarning: invalid value encountered in double_scalars\n",
      "  SC = (norm_term1-norm_term2)*(norm_term1-norm_term2)/(denorm_term1*denorm_term2)\n"
     ]
    },
    {
     "name": "stdout",
     "output_type": "stream",
     "text": [
      "0\n",
      "Y:\\RDRU_MYBPC3_2021\\Pilot20211011_plate1_output\\211011_Brandon_IPSC_Plate1_s031_result1.png\n",
      "6759\n",
      "[ 79 184 331 428 567 712 810]\n",
      "[133 262 390 517 644 771]\n",
      "Y:\\RDRU_MYBPC3_2021\\Pilot20211011_plate1_output\\211011_Brandon_IPSC_Plate1_s031_result2.png\n",
      "Y:\\RDRU_MYBPC3_2021\\Pilot20211011\\IPSC_Plate1\\211011_Brandon_IPSC_Plate1_s032\n",
      "Directory  Y:\\RDRU_MYBPC3_2021\\Pilot20211011_plate1_output  already exists\n",
      "Y:\\RDRU_MYBPC3_2021\\Pilot20211011\\IPSC_Plate1\\211011_Brandon_IPSC_Plate1_s032\\211011_Brandon_IPSC_Plate1_s032_video_ds.avi\n",
      "Y:\\RDRU_MYBPC3_2021\\Pilot20211011\\IPSC_Plate1\n",
      "100\n",
      "200\n",
      "300\n",
      "400\n",
      "500\n",
      "600\n",
      "700\n",
      "800\n",
      "900\n"
     ]
    },
    {
     "name": "stderr",
     "output_type": "stream",
     "text": [
      "C:\\Users\\PANGJ05\\AppData\\Local\\Temp\\2/ipykernel_15460/1507772537.py:61: RuntimeWarning: invalid value encountered in double_scalars\n",
      "  SC = (norm_term1-norm_term2)*(norm_term1-norm_term2)/(denorm_term1*denorm_term2)\n"
     ]
    },
    {
     "name": "stdout",
     "output_type": "stream",
     "text": [
      "0\n",
      "Y:\\RDRU_MYBPC3_2021\\Pilot20211011_plate1_output\\211011_Brandon_IPSC_Plate1_s032_result1.png\n",
      "2197\n",
      "[ 61 186 316 444 573 699 830]\n",
      "[ 95 223 352 483 610 734 864]\n",
      "Y:\\RDRU_MYBPC3_2021\\Pilot20211011_plate1_output\\211011_Brandon_IPSC_Plate1_s032_result2.png\n",
      "Y:\\RDRU_MYBPC3_2021\\Pilot20211011\\IPSC_Plate1\\211011_Brandon_IPSC_Plate1_s033\n",
      "Directory  Y:\\RDRU_MYBPC3_2021\\Pilot20211011_plate1_output  already exists\n",
      "Y:\\RDRU_MYBPC3_2021\\Pilot20211011\\IPSC_Plate1\\211011_Brandon_IPSC_Plate1_s033\\211011_Brandon_IPSC_Plate1_s033_video_ds.avi\n",
      "Y:\\RDRU_MYBPC3_2021\\Pilot20211011\\IPSC_Plate1\n",
      "100\n",
      "200\n",
      "300\n",
      "400\n",
      "500\n",
      "600\n",
      "700\n",
      "800\n",
      "900\n"
     ]
    },
    {
     "name": "stderr",
     "output_type": "stream",
     "text": [
      "C:\\Users\\PANGJ05\\AppData\\Local\\Temp\\2/ipykernel_15460/1507772537.py:61: RuntimeWarning: invalid value encountered in double_scalars\n",
      "  SC = (norm_term1-norm_term2)*(norm_term1-norm_term2)/(denorm_term1*denorm_term2)\n"
     ]
    },
    {
     "name": "stdout",
     "output_type": "stream",
     "text": [
      "0\n",
      "Y:\\RDRU_MYBPC3_2021\\Pilot20211011_plate1_output\\211011_Brandon_IPSC_Plate1_s033_result1.png\n",
      "12959\n",
      "[ 93 204 357 499 610 744 915]\n",
      "[140 296 395 518 721 786]\n",
      "Y:\\RDRU_MYBPC3_2021\\Pilot20211011_plate1_output\\211011_Brandon_IPSC_Plate1_s033_result2.png\n",
      "Y:\\RDRU_MYBPC3_2021\\Pilot20211011\\IPSC_Plate1\\211011_Brandon_IPSC_Plate1_s034\n",
      "Directory  Y:\\RDRU_MYBPC3_2021\\Pilot20211011_plate1_output  already exists\n",
      "Y:\\RDRU_MYBPC3_2021\\Pilot20211011\\IPSC_Plate1\\211011_Brandon_IPSC_Plate1_s034\\211011_Brandon_IPSC_Plate1_s034_video_ds.avi\n",
      "Y:\\RDRU_MYBPC3_2021\\Pilot20211011\\IPSC_Plate1\n",
      "100\n",
      "200\n",
      "300\n",
      "400\n",
      "500\n",
      "600\n",
      "700\n",
      "800\n",
      "900\n"
     ]
    },
    {
     "name": "stderr",
     "output_type": "stream",
     "text": [
      "C:\\Users\\PANGJ05\\AppData\\Local\\Temp\\2/ipykernel_15460/1507772537.py:61: RuntimeWarning: invalid value encountered in double_scalars\n",
      "  SC = (norm_term1-norm_term2)*(norm_term1-norm_term2)/(denorm_term1*denorm_term2)\n"
     ]
    },
    {
     "name": "stdout",
     "output_type": "stream",
     "text": [
      "0\n",
      "Y:\\RDRU_MYBPC3_2021\\Pilot20211011_plate1_output\\211011_Brandon_IPSC_Plate1_s034_result1.png\n",
      "10051\n",
      "[100 236 336 477 571 685 828]\n",
      "[158 291 421 526 655 778]\n",
      "Y:\\RDRU_MYBPC3_2021\\Pilot20211011_plate1_output\\211011_Brandon_IPSC_Plate1_s034_result2.png\n",
      "Y:\\RDRU_MYBPC3_2021\\Pilot20211011\\IPSC_Plate1\\211011_Brandon_IPSC_Plate1_s035\n",
      "Directory  Y:\\RDRU_MYBPC3_2021\\Pilot20211011_plate1_output  already exists\n",
      "Y:\\RDRU_MYBPC3_2021\\Pilot20211011\\IPSC_Plate1\\211011_Brandon_IPSC_Plate1_s035\\211011_Brandon_IPSC_Plate1_s035_video_ds.avi\n",
      "Y:\\RDRU_MYBPC3_2021\\Pilot20211011\\IPSC_Plate1\n",
      "100\n",
      "200\n",
      "300\n",
      "400\n",
      "500\n",
      "600\n",
      "700\n",
      "800\n",
      "900\n"
     ]
    },
    {
     "name": "stderr",
     "output_type": "stream",
     "text": [
      "C:\\Users\\PANGJ05\\AppData\\Local\\Temp\\2/ipykernel_15460/1507772537.py:61: RuntimeWarning: invalid value encountered in double_scalars\n",
      "  SC = (norm_term1-norm_term2)*(norm_term1-norm_term2)/(denorm_term1*denorm_term2)\n"
     ]
    },
    {
     "name": "stdout",
     "output_type": "stream",
     "text": [
      "0\n",
      "Y:\\RDRU_MYBPC3_2021\\Pilot20211011_plate1_output\\211011_Brandon_IPSC_Plate1_s035_result1.png\n",
      "17088\n",
      "[ 62 188 317 448 578 710 834]\n",
      "[102 228 355 482 611 738 865]\n",
      "Y:\\RDRU_MYBPC3_2021\\Pilot20211011_plate1_output\\211011_Brandon_IPSC_Plate1_s035_result2.png\n",
      "Y:\\RDRU_MYBPC3_2021\\Pilot20211011\\IPSC_Plate1\\211011_Brandon_IPSC_Plate1_s036\n",
      "Directory  Y:\\RDRU_MYBPC3_2021\\Pilot20211011_plate1_output  already exists\n",
      "Y:\\RDRU_MYBPC3_2021\\Pilot20211011\\IPSC_Plate1\\211011_Brandon_IPSC_Plate1_s036\\211011_Brandon_IPSC_Plate1_s036_video_ds.avi\n",
      "Y:\\RDRU_MYBPC3_2021\\Pilot20211011\\IPSC_Plate1\n",
      "100\n",
      "200\n",
      "300\n",
      "400\n",
      "500\n",
      "600\n",
      "700\n",
      "800\n",
      "900\n"
     ]
    },
    {
     "name": "stderr",
     "output_type": "stream",
     "text": [
      "C:\\Users\\PANGJ05\\AppData\\Local\\Temp\\2/ipykernel_15460/1507772537.py:61: RuntimeWarning: invalid value encountered in double_scalars\n",
      "  SC = (norm_term1-norm_term2)*(norm_term1-norm_term2)/(denorm_term1*denorm_term2)\n"
     ]
    },
    {
     "name": "stdout",
     "output_type": "stream",
     "text": [
      "0\n",
      "Y:\\RDRU_MYBPC3_2021\\Pilot20211011_plate1_output\\211011_Brandon_IPSC_Plate1_s036_result1.png\n",
      "6099\n",
      "[152 276 406 538 672 802 916]\n",
      "[ 56 184 312 439 569 697 823]\n",
      "Y:\\RDRU_MYBPC3_2021\\Pilot20211011_plate1_output\\211011_Brandon_IPSC_Plate1_s036_result2.png\n",
      "Y:\\RDRU_MYBPC3_2021\\Pilot20211011\\IPSC_Plate1\\211011_Brandon_IPSC_Plate1_s037\n",
      "Directory  Y:\\RDRU_MYBPC3_2021\\Pilot20211011_plate1_output  already exists\n",
      "Y:\\RDRU_MYBPC3_2021\\Pilot20211011\\IPSC_Plate1\\211011_Brandon_IPSC_Plate1_s037\\211011_Brandon_IPSC_Plate1_s037_video_ds.avi\n",
      "Y:\\RDRU_MYBPC3_2021\\Pilot20211011\\IPSC_Plate1\n",
      "100\n",
      "200\n",
      "300\n",
      "400\n",
      "500\n",
      "600\n",
      "700\n",
      "800\n",
      "900\n"
     ]
    },
    {
     "name": "stderr",
     "output_type": "stream",
     "text": [
      "C:\\Users\\PANGJ05\\AppData\\Local\\Temp\\2/ipykernel_15460/1507772537.py:61: RuntimeWarning: invalid value encountered in double_scalars\n",
      "  SC = (norm_term1-norm_term2)*(norm_term1-norm_term2)/(denorm_term1*denorm_term2)\n"
     ]
    },
    {
     "name": "stdout",
     "output_type": "stream",
     "text": [
      "0\n",
      "Y:\\RDRU_MYBPC3_2021\\Pilot20211011_plate1_output\\211011_Brandon_IPSC_Plate1_s037_result1.png\n",
      "3596\n",
      "[230 383 618 771]\n",
      "[ 85 265 522 712 836]\n",
      "Y:\\RDRU_MYBPC3_2021\\Pilot20211011_plate1_output\\211011_Brandon_IPSC_Plate1_s037_result2.png\n",
      "Y:\\RDRU_MYBPC3_2021\\Pilot20211011\\IPSC_Plate1\\211011_Brandon_IPSC_Plate1_s038\n",
      "Directory  Y:\\RDRU_MYBPC3_2021\\Pilot20211011_plate1_output  already exists\n",
      "Y:\\RDRU_MYBPC3_2021\\Pilot20211011\\IPSC_Plate1\\211011_Brandon_IPSC_Plate1_s038\\211011_Brandon_IPSC_Plate1_s038_video_ds.avi\n",
      "Y:\\RDRU_MYBPC3_2021\\Pilot20211011\\IPSC_Plate1\n",
      "100\n",
      "200\n",
      "300\n",
      "400\n",
      "500\n",
      "600\n",
      "700\n",
      "800\n",
      "900\n"
     ]
    },
    {
     "name": "stderr",
     "output_type": "stream",
     "text": [
      "C:\\Users\\PANGJ05\\AppData\\Local\\Temp\\2/ipykernel_15460/1507772537.py:61: RuntimeWarning: invalid value encountered in double_scalars\n",
      "  SC = (norm_term1-norm_term2)*(norm_term1-norm_term2)/(denorm_term1*denorm_term2)\n"
     ]
    },
    {
     "name": "stdout",
     "output_type": "stream",
     "text": [
      "0\n",
      "Y:\\RDRU_MYBPC3_2021\\Pilot20211011_plate1_output\\211011_Brandon_IPSC_Plate1_s038_result1.png\n",
      "2667\n",
      "[ 86 271 464 654 842]\n",
      "[133 319 511 697 890]\n",
      "Y:\\RDRU_MYBPC3_2021\\Pilot20211011_plate1_output\\211011_Brandon_IPSC_Plate1_s038_result2.png\n",
      "Y:\\RDRU_MYBPC3_2021\\Pilot20211011\\IPSC_Plate1\\211011_Brandon_IPSC_Plate1_s039\n",
      "Directory  Y:\\RDRU_MYBPC3_2021\\Pilot20211011_plate1_output  already exists\n",
      "Y:\\RDRU_MYBPC3_2021\\Pilot20211011\\IPSC_Plate1\\211011_Brandon_IPSC_Plate1_s039\\211011_Brandon_IPSC_Plate1_s039_video_ds.avi\n",
      "Y:\\RDRU_MYBPC3_2021\\Pilot20211011\\IPSC_Plate1\n",
      "100\n",
      "200\n",
      "300\n",
      "400\n",
      "500\n",
      "600\n",
      "700\n",
      "800\n",
      "900\n"
     ]
    },
    {
     "name": "stderr",
     "output_type": "stream",
     "text": [
      "C:\\Users\\PANGJ05\\AppData\\Local\\Temp\\2/ipykernel_15460/1507772537.py:61: RuntimeWarning: invalid value encountered in double_scalars\n",
      "  SC = (norm_term1-norm_term2)*(norm_term1-norm_term2)/(denorm_term1*denorm_term2)\n"
     ]
    },
    {
     "name": "stdout",
     "output_type": "stream",
     "text": [
      "0\n",
      "Y:\\RDRU_MYBPC3_2021\\Pilot20211011_plate1_output\\211011_Brandon_IPSC_Plate1_s039_result1.png\n",
      "5567\n",
      "[112 313 520 673 915]\n",
      "[162 398 541 734]\n",
      "Y:\\RDRU_MYBPC3_2021\\Pilot20211011_plate1_output\\211011_Brandon_IPSC_Plate1_s039_result2.png\n",
      "Y:\\RDRU_MYBPC3_2021\\Pilot20211011\\IPSC_Plate1\\211011_Brandon_IPSC_Plate1_s040\n",
      "Directory  Y:\\RDRU_MYBPC3_2021\\Pilot20211011_plate1_output  already exists\n",
      "Y:\\RDRU_MYBPC3_2021\\Pilot20211011\\IPSC_Plate1\\211011_Brandon_IPSC_Plate1_s040\\211011_Brandon_IPSC_Plate1_s040_video_ds.avi\n",
      "Y:\\RDRU_MYBPC3_2021\\Pilot20211011\\IPSC_Plate1\n",
      "100\n",
      "200\n",
      "300\n",
      "400\n",
      "500\n",
      "600\n",
      "700\n",
      "800\n",
      "900\n"
     ]
    },
    {
     "name": "stderr",
     "output_type": "stream",
     "text": [
      "C:\\Users\\PANGJ05\\AppData\\Local\\Temp\\2/ipykernel_15460/1507772537.py:61: RuntimeWarning: invalid value encountered in double_scalars\n",
      "  SC = (norm_term1-norm_term2)*(norm_term1-norm_term2)/(denorm_term1*denorm_term2)\n"
     ]
    },
    {
     "name": "stdout",
     "output_type": "stream",
     "text": [
      "0\n",
      "Y:\\RDRU_MYBPC3_2021\\Pilot20211011_plate1_output\\211011_Brandon_IPSC_Plate1_s040_result1.png\n",
      "502\n",
      "[ 48 239 434 628 816]\n",
      "[ 92 284 479 672 862]\n",
      "Y:\\RDRU_MYBPC3_2021\\Pilot20211011_plate1_output\\211011_Brandon_IPSC_Plate1_s040_result2.png\n",
      "Y:\\RDRU_MYBPC3_2021\\Pilot20211011\\IPSC_Plate1\\211011_Brandon_IPSC_Plate1_s041\n",
      "Directory  Y:\\RDRU_MYBPC3_2021\\Pilot20211011_plate1_output  already exists\n",
      "Y:\\RDRU_MYBPC3_2021\\Pilot20211011\\IPSC_Plate1\\211011_Brandon_IPSC_Plate1_s041\\211011_Brandon_IPSC_Plate1_s041_video_ds.avi\n",
      "Y:\\RDRU_MYBPC3_2021\\Pilot20211011\\IPSC_Plate1\n",
      "100\n",
      "200\n",
      "300\n",
      "400\n",
      "500\n",
      "600\n",
      "700\n",
      "800\n",
      "900\n"
     ]
    },
    {
     "name": "stderr",
     "output_type": "stream",
     "text": [
      "C:\\Users\\PANGJ05\\AppData\\Local\\Temp\\2/ipykernel_15460/1507772537.py:61: RuntimeWarning: invalid value encountered in double_scalars\n",
      "  SC = (norm_term1-norm_term2)*(norm_term1-norm_term2)/(denorm_term1*denorm_term2)\n"
     ]
    },
    {
     "name": "stdout",
     "output_type": "stream",
     "text": [
      "0\n",
      "Y:\\RDRU_MYBPC3_2021\\Pilot20211011_plate1_output\\211011_Brandon_IPSC_Plate1_s041_result1.png\n",
      "10496\n",
      "[ 92 320 560 788]\n",
      "[130 368 591 819]\n",
      "Y:\\RDRU_MYBPC3_2021\\Pilot20211011_plate1_output\\211011_Brandon_IPSC_Plate1_s041_result2.png\n",
      "Y:\\RDRU_MYBPC3_2021\\Pilot20211011\\IPSC_Plate1\\211011_Brandon_IPSC_Plate1_s042\n",
      "Directory  Y:\\RDRU_MYBPC3_2021\\Pilot20211011_plate1_output  already exists\n",
      "Y:\\RDRU_MYBPC3_2021\\Pilot20211011\\IPSC_Plate1\\211011_Brandon_IPSC_Plate1_s042\\211011_Brandon_IPSC_Plate1_s042_video_ds.avi\n",
      "Y:\\RDRU_MYBPC3_2021\\Pilot20211011\\IPSC_Plate1\n",
      "100\n",
      "200\n",
      "300\n",
      "400\n",
      "500\n",
      "600\n",
      "700\n",
      "800\n",
      "900\n"
     ]
    },
    {
     "name": "stderr",
     "output_type": "stream",
     "text": [
      "C:\\Users\\PANGJ05\\AppData\\Local\\Temp\\2/ipykernel_15460/1507772537.py:61: RuntimeWarning: invalid value encountered in double_scalars\n",
      "  SC = (norm_term1-norm_term2)*(norm_term1-norm_term2)/(denorm_term1*denorm_term2)\n"
     ]
    },
    {
     "name": "stdout",
     "output_type": "stream",
     "text": [
      "0\n",
      "Y:\\RDRU_MYBPC3_2021\\Pilot20211011_plate1_output\\211011_Brandon_IPSC_Plate1_s042_result1.png\n",
      "23085\n",
      "[ 63 175 389 480 559 713 836]\n",
      "[140 271 413 517 612 836]\n",
      "Y:\\RDRU_MYBPC3_2021\\Pilot20211011_plate1_output\\211011_Brandon_IPSC_Plate1_s042_result2.png\n",
      "Y:\\RDRU_MYBPC3_2021\\Pilot20211011\\IPSC_Plate1\\211011_Brandon_IPSC_Plate1_s043\n",
      "Directory  Y:\\RDRU_MYBPC3_2021\\Pilot20211011_plate1_output  already exists\n",
      "Y:\\RDRU_MYBPC3_2021\\Pilot20211011\\IPSC_Plate1\\211011_Brandon_IPSC_Plate1_s043\\211011_Brandon_IPSC_Plate1_s043_video_ds.avi\n",
      "Y:\\RDRU_MYBPC3_2021\\Pilot20211011\\IPSC_Plate1\n",
      "100\n",
      "200\n",
      "300\n",
      "400\n",
      "500\n",
      "600\n",
      "700\n",
      "800\n",
      "900\n"
     ]
    },
    {
     "name": "stderr",
     "output_type": "stream",
     "text": [
      "C:\\Users\\PANGJ05\\AppData\\Local\\Temp\\2/ipykernel_15460/1507772537.py:61: RuntimeWarning: invalid value encountered in double_scalars\n",
      "  SC = (norm_term1-norm_term2)*(norm_term1-norm_term2)/(denorm_term1*denorm_term2)\n"
     ]
    },
    {
     "name": "stdout",
     "output_type": "stream",
     "text": [
      "0\n",
      "Y:\\RDRU_MYBPC3_2021\\Pilot20211011_plate1_output\\211011_Brandon_IPSC_Plate1_s043_result1.png\n",
      "9710\n",
      "[ 59 318 639]\n",
      "[106 365 688]\n",
      "Y:\\RDRU_MYBPC3_2021\\Pilot20211011_plate1_output\\211011_Brandon_IPSC_Plate1_s043_result2.png\n",
      "Y:\\RDRU_MYBPC3_2021\\Pilot20211011\\IPSC_Plate1\\211011_Brandon_IPSC_Plate1_s044\n",
      "Directory  Y:\\RDRU_MYBPC3_2021\\Pilot20211011_plate1_output  already exists\n",
      "Y:\\RDRU_MYBPC3_2021\\Pilot20211011\\IPSC_Plate1\\211011_Brandon_IPSC_Plate1_s044\\211011_Brandon_IPSC_Plate1_s044_video_ds.avi\n",
      "Y:\\RDRU_MYBPC3_2021\\Pilot20211011\\IPSC_Plate1\n",
      "100\n",
      "200\n",
      "300\n",
      "400\n",
      "500\n",
      "600\n",
      "700\n",
      "800\n",
      "900\n"
     ]
    },
    {
     "name": "stderr",
     "output_type": "stream",
     "text": [
      "C:\\Users\\PANGJ05\\AppData\\Local\\Temp\\2/ipykernel_15460/1507772537.py:61: RuntimeWarning: invalid value encountered in double_scalars\n",
      "  SC = (norm_term1-norm_term2)*(norm_term1-norm_term2)/(denorm_term1*denorm_term2)\n"
     ]
    },
    {
     "name": "stdout",
     "output_type": "stream",
     "text": [
      "0\n",
      "Y:\\RDRU_MYBPC3_2021\\Pilot20211011_plate1_output\\211011_Brandon_IPSC_Plate1_s044_result1.png\n",
      "10227\n",
      "[338 589 828]\n",
      "[381 634 878]\n",
      "Y:\\RDRU_MYBPC3_2021\\Pilot20211011_plate1_output\\211011_Brandon_IPSC_Plate1_s044_result2.png\n",
      "Y:\\RDRU_MYBPC3_2021\\Pilot20211011\\IPSC_Plate1\\211011_Brandon_IPSC_Plate1_s045\n",
      "Directory  Y:\\RDRU_MYBPC3_2021\\Pilot20211011_plate1_output  already exists\n",
      "Y:\\RDRU_MYBPC3_2021\\Pilot20211011\\IPSC_Plate1\\211011_Brandon_IPSC_Plate1_s045\\211011_Brandon_IPSC_Plate1_s045_video_ds.avi\n",
      "Y:\\RDRU_MYBPC3_2021\\Pilot20211011\\IPSC_Plate1\n",
      "100\n",
      "200\n",
      "300\n",
      "400\n",
      "500\n",
      "600\n",
      "700\n",
      "800\n",
      "900\n"
     ]
    },
    {
     "name": "stderr",
     "output_type": "stream",
     "text": [
      "C:\\Users\\PANGJ05\\AppData\\Local\\Temp\\2/ipykernel_15460/1507772537.py:61: RuntimeWarning: invalid value encountered in double_scalars\n",
      "  SC = (norm_term1-norm_term2)*(norm_term1-norm_term2)/(denorm_term1*denorm_term2)\n"
     ]
    },
    {
     "name": "stdout",
     "output_type": "stream",
     "text": [
      "0\n",
      "Y:\\RDRU_MYBPC3_2021\\Pilot20211011_plate1_output\\211011_Brandon_IPSC_Plate1_s045_result1.png\n",
      "847\n",
      "[ 76 206 358 430 601 667 799 943]\n",
      "[169 252 393 487 639 741 898]\n",
      "Y:\\RDRU_MYBPC3_2021\\Pilot20211011_plate1_output\\211011_Brandon_IPSC_Plate1_s045_result2.png\n",
      "Y:\\RDRU_MYBPC3_2021\\Pilot20211011\\IPSC_Plate1\\211011_Brandon_IPSC_Plate1_s046\n",
      "Directory  Y:\\RDRU_MYBPC3_2021\\Pilot20211011_plate1_output  already exists\n",
      "Y:\\RDRU_MYBPC3_2021\\Pilot20211011\\IPSC_Plate1\\211011_Brandon_IPSC_Plate1_s046\\211011_Brandon_IPSC_Plate1_s046_video_ds.avi\n",
      "Y:\\RDRU_MYBPC3_2021\\Pilot20211011\\IPSC_Plate1\n",
      "100\n",
      "200\n",
      "300\n",
      "400\n",
      "500\n",
      "600\n",
      "700\n",
      "800\n",
      "900\n"
     ]
    },
    {
     "name": "stderr",
     "output_type": "stream",
     "text": [
      "C:\\Users\\PANGJ05\\AppData\\Local\\Temp\\2/ipykernel_15460/1507772537.py:61: RuntimeWarning: invalid value encountered in double_scalars\n",
      "  SC = (norm_term1-norm_term2)*(norm_term1-norm_term2)/(denorm_term1*denorm_term2)\n"
     ]
    },
    {
     "name": "stdout",
     "output_type": "stream",
     "text": [
      "0\n",
      "Y:\\RDRU_MYBPC3_2021\\Pilot20211011_plate1_output\\211011_Brandon_IPSC_Plate1_s046_result1.png\n",
      "5979\n",
      "[149 393 651 908]\n",
      "[205 440 700]\n",
      "Y:\\RDRU_MYBPC3_2021\\Pilot20211011_plate1_output\\211011_Brandon_IPSC_Plate1_s046_result2.png\n",
      "Y:\\RDRU_MYBPC3_2021\\Pilot20211011\\IPSC_Plate1\\211011_Brandon_IPSC_Plate1_s047\n",
      "Directory  Y:\\RDRU_MYBPC3_2021\\Pilot20211011_plate1_output  already exists\n",
      "Y:\\RDRU_MYBPC3_2021\\Pilot20211011\\IPSC_Plate1\\211011_Brandon_IPSC_Plate1_s047\\211011_Brandon_IPSC_Plate1_s047_video_ds.avi\n",
      "Y:\\RDRU_MYBPC3_2021\\Pilot20211011\\IPSC_Plate1\n",
      "100\n",
      "200\n",
      "300\n",
      "400\n",
      "500\n",
      "600\n",
      "700\n",
      "800\n",
      "900\n"
     ]
    },
    {
     "name": "stderr",
     "output_type": "stream",
     "text": [
      "C:\\Users\\PANGJ05\\AppData\\Local\\Temp\\2/ipykernel_15460/1507772537.py:61: RuntimeWarning: invalid value encountered in double_scalars\n",
      "  SC = (norm_term1-norm_term2)*(norm_term1-norm_term2)/(denorm_term1*denorm_term2)\n"
     ]
    },
    {
     "name": "stdout",
     "output_type": "stream",
     "text": [
      "0\n",
      "Y:\\RDRU_MYBPC3_2021\\Pilot20211011_plate1_output\\211011_Brandon_IPSC_Plate1_s047_result1.png\n",
      "35945\n",
      "[ 92 344 602 888]\n",
      "[143 392 651]\n",
      "Y:\\RDRU_MYBPC3_2021\\Pilot20211011_plate1_output\\211011_Brandon_IPSC_Plate1_s047_result2.png\n",
      "Y:\\RDRU_MYBPC3_2021\\Pilot20211011\\IPSC_Plate1\\211011_Brandon_IPSC_Plate1_s048\n",
      "Directory  Y:\\RDRU_MYBPC3_2021\\Pilot20211011_plate1_output  already exists\n",
      "Y:\\RDRU_MYBPC3_2021\\Pilot20211011\\IPSC_Plate1\\211011_Brandon_IPSC_Plate1_s048\\211011_Brandon_IPSC_Plate1_s048_video_ds.avi\n",
      "Y:\\RDRU_MYBPC3_2021\\Pilot20211011\\IPSC_Plate1\n",
      "100\n",
      "200\n",
      "300\n",
      "400\n",
      "500\n",
      "600\n",
      "700\n",
      "800\n",
      "900\n"
     ]
    },
    {
     "name": "stderr",
     "output_type": "stream",
     "text": [
      "C:\\Users\\PANGJ05\\AppData\\Local\\Temp\\2/ipykernel_15460/1507772537.py:61: RuntimeWarning: invalid value encountered in double_scalars\n",
      "  SC = (norm_term1-norm_term2)*(norm_term1-norm_term2)/(denorm_term1*denorm_term2)\n"
     ]
    },
    {
     "name": "stdout",
     "output_type": "stream",
     "text": [
      "0\n",
      "Y:\\RDRU_MYBPC3_2021\\Pilot20211011_plate1_output\\211011_Brandon_IPSC_Plate1_s048_result1.png\n",
      "2624\n",
      "[197 505 752]\n",
      "[246 548 801]\n",
      "Y:\\RDRU_MYBPC3_2021\\Pilot20211011_plate1_output\\211011_Brandon_IPSC_Plate1_s048_result2.png\n",
      "Y:\\RDRU_MYBPC3_2021\\Pilot20211011\\IPSC_Plate1\\211011_Brandon_IPSC_Plate1_s049\n",
      "Directory  Y:\\RDRU_MYBPC3_2021\\Pilot20211011_plate1_output  already exists\n",
      "Y:\\RDRU_MYBPC3_2021\\Pilot20211011\\IPSC_Plate1\\211011_Brandon_IPSC_Plate1_s049\\211011_Brandon_IPSC_Plate1_s049_video_ds.avi\n",
      "Y:\\RDRU_MYBPC3_2021\\Pilot20211011\\IPSC_Plate1\n",
      "100\n",
      "200\n",
      "300\n",
      "400\n",
      "500\n",
      "600\n",
      "700\n",
      "800\n",
      "900\n"
     ]
    },
    {
     "name": "stderr",
     "output_type": "stream",
     "text": [
      "C:\\Users\\PANGJ05\\AppData\\Local\\Temp\\2/ipykernel_15460/1507772537.py:61: RuntimeWarning: invalid value encountered in double_scalars\n",
      "  SC = (norm_term1-norm_term2)*(norm_term1-norm_term2)/(denorm_term1*denorm_term2)\n"
     ]
    },
    {
     "name": "stdout",
     "output_type": "stream",
     "text": [
      "0\n",
      "Y:\\RDRU_MYBPC3_2021\\Pilot20211011_plate1_output\\211011_Brandon_IPSC_Plate1_s049_result1.png\n",
      "6863\n",
      "[107 385 782]\n",
      "[141 417 821]\n",
      "Y:\\RDRU_MYBPC3_2021\\Pilot20211011_plate1_output\\211011_Brandon_IPSC_Plate1_s049_result2.png\n",
      "Y:\\RDRU_MYBPC3_2021\\Pilot20211011\\IPSC_Plate1\\211011_Brandon_IPSC_Plate1_s050\n",
      "Directory  Y:\\RDRU_MYBPC3_2021\\Pilot20211011_plate1_output  already exists\n",
      "Y:\\RDRU_MYBPC3_2021\\Pilot20211011\\IPSC_Plate1\\211011_Brandon_IPSC_Plate1_s050\\211011_Brandon_IPSC_Plate1_s050_video_ds.avi\n",
      "Y:\\RDRU_MYBPC3_2021\\Pilot20211011\\IPSC_Plate1\n",
      "100\n",
      "200\n",
      "300\n",
      "400\n"
     ]
    },
    {
     "ename": "KeyboardInterrupt",
     "evalue": "",
     "output_type": "error",
     "traceback": [
      "\u001b[1;31m---------------------------------------------------------------------------\u001b[0m",
      "\u001b[1;31mKeyboardInterrupt\u001b[0m                         Traceback (most recent call last)",
      "\u001b[1;32m~\\AppData\\Local\\Temp\\2/ipykernel_15460/2745813679.py\u001b[0m in \u001b[0;36m<module>\u001b[1;34m\u001b[0m\n\u001b[0;32m     62\u001b[0m         \u001b[0mnext\u001b[0m \u001b[1;33m=\u001b[0m \u001b[0mframe2\u001b[0m\u001b[1;33m\u001b[0m\u001b[1;33m\u001b[0m\u001b[0m\n\u001b[0;32m     63\u001b[0m \u001b[1;33m\u001b[0m\u001b[0m\n\u001b[1;32m---> 64\u001b[1;33m         \u001b[0mSC_values_ref\u001b[0m\u001b[1;33m[\u001b[0m\u001b[0mii\u001b[0m\u001b[1;33m-\u001b[0m\u001b[1;36m1\u001b[0m\u001b[1;33m]\u001b[0m \u001b[1;33m=\u001b[0m \u001b[0mSimilarityComparison\u001b[0m\u001b[1;33m(\u001b[0m\u001b[0mframe_ref\u001b[0m\u001b[1;33m,\u001b[0m \u001b[0mframe2\u001b[0m\u001b[1;33m)\u001b[0m\u001b[1;33m\u001b[0m\u001b[1;33m\u001b[0m\u001b[0m\n\u001b[0m\u001b[0;32m     65\u001b[0m \u001b[1;33m\u001b[0m\u001b[0m\n\u001b[0;32m     66\u001b[0m         \u001b[1;31m### Gradient flow\u001b[0m\u001b[1;33m\u001b[0m\u001b[1;33m\u001b[0m\u001b[1;33m\u001b[0m\u001b[0m\n",
      "\u001b[1;32m~\\AppData\\Local\\Temp\\2/ipykernel_15460/1507772537.py\u001b[0m in \u001b[0;36mSimilarityComparison\u001b[1;34m(img10, img20)\u001b[0m\n\u001b[0;32m     53\u001b[0m     \u001b[0mN\u001b[0m \u001b[1;33m=\u001b[0m \u001b[0mreg_hei\u001b[0m\u001b[1;33m*\u001b[0m\u001b[0mreg_wid\u001b[0m\u001b[1;33m\u001b[0m\u001b[1;33m\u001b[0m\u001b[0m\n\u001b[0;32m     54\u001b[0m \u001b[1;33m\u001b[0m\u001b[0m\n\u001b[1;32m---> 55\u001b[1;33m     \u001b[0mnorm_term1\u001b[0m \u001b[1;33m=\u001b[0m \u001b[0mnp\u001b[0m\u001b[1;33m.\u001b[0m\u001b[0msum\u001b[0m\u001b[1;33m(\u001b[0m\u001b[0mnp\u001b[0m\u001b[1;33m.\u001b[0m\u001b[0mmultiply\u001b[0m\u001b[1;33m(\u001b[0m\u001b[0mimg1\u001b[0m\u001b[1;33m,\u001b[0m\u001b[0mimg2\u001b[0m\u001b[1;33m)\u001b[0m\u001b[1;33m)\u001b[0m\u001b[1;33m*\u001b[0m\u001b[0mN\u001b[0m\u001b[1;33m\u001b[0m\u001b[1;33m\u001b[0m\u001b[0m\n\u001b[0m\u001b[0;32m     56\u001b[0m     \u001b[0mnorm_term2\u001b[0m \u001b[1;33m=\u001b[0m \u001b[0mnp\u001b[0m\u001b[1;33m.\u001b[0m\u001b[0msum\u001b[0m\u001b[1;33m(\u001b[0m\u001b[0mimg1\u001b[0m\u001b[1;33m)\u001b[0m\u001b[1;33m*\u001b[0m\u001b[0mnp\u001b[0m\u001b[1;33m.\u001b[0m\u001b[0msum\u001b[0m\u001b[1;33m(\u001b[0m\u001b[0mimg2\u001b[0m\u001b[1;33m)\u001b[0m\u001b[1;33m\u001b[0m\u001b[1;33m\u001b[0m\u001b[0m\n\u001b[0;32m     57\u001b[0m \u001b[1;33m\u001b[0m\u001b[0m\n",
      "\u001b[1;32m<__array_function__ internals>\u001b[0m in \u001b[0;36msum\u001b[1;34m(*args, **kwargs)\u001b[0m\n",
      "\u001b[1;32m~\\Anaconda3\\envs\\pangjc\\lib\\site-packages\\numpy\\core\\fromnumeric.py\u001b[0m in \u001b[0;36msum\u001b[1;34m(a, axis, dtype, out, keepdims, initial, where)\u001b[0m\n\u001b[0;32m   2245\u001b[0m         \u001b[1;32mreturn\u001b[0m \u001b[0mres\u001b[0m\u001b[1;33m\u001b[0m\u001b[1;33m\u001b[0m\u001b[0m\n\u001b[0;32m   2246\u001b[0m \u001b[1;33m\u001b[0m\u001b[0m\n\u001b[1;32m-> 2247\u001b[1;33m     return _wrapreduction(a, np.add, 'sum', axis, dtype, out, keepdims=keepdims,\n\u001b[0m\u001b[0;32m   2248\u001b[0m                           initial=initial, where=where)\n\u001b[0;32m   2249\u001b[0m \u001b[1;33m\u001b[0m\u001b[0m\n",
      "\u001b[1;32m~\\Anaconda3\\envs\\pangjc\\lib\\site-packages\\numpy\\core\\fromnumeric.py\u001b[0m in \u001b[0;36m_wrapreduction\u001b[1;34m(obj, ufunc, method, axis, dtype, out, **kwargs)\u001b[0m\n\u001b[0;32m     85\u001b[0m                 \u001b[1;32mreturn\u001b[0m \u001b[0mreduction\u001b[0m\u001b[1;33m(\u001b[0m\u001b[0maxis\u001b[0m\u001b[1;33m=\u001b[0m\u001b[0maxis\u001b[0m\u001b[1;33m,\u001b[0m \u001b[0mout\u001b[0m\u001b[1;33m=\u001b[0m\u001b[0mout\u001b[0m\u001b[1;33m,\u001b[0m \u001b[1;33m**\u001b[0m\u001b[0mpasskwargs\u001b[0m\u001b[1;33m)\u001b[0m\u001b[1;33m\u001b[0m\u001b[1;33m\u001b[0m\u001b[0m\n\u001b[0;32m     86\u001b[0m \u001b[1;33m\u001b[0m\u001b[0m\n\u001b[1;32m---> 87\u001b[1;33m     \u001b[1;32mreturn\u001b[0m \u001b[0mufunc\u001b[0m\u001b[1;33m.\u001b[0m\u001b[0mreduce\u001b[0m\u001b[1;33m(\u001b[0m\u001b[0mobj\u001b[0m\u001b[1;33m,\u001b[0m \u001b[0maxis\u001b[0m\u001b[1;33m,\u001b[0m \u001b[0mdtype\u001b[0m\u001b[1;33m,\u001b[0m \u001b[0mout\u001b[0m\u001b[1;33m,\u001b[0m \u001b[1;33m**\u001b[0m\u001b[0mpasskwargs\u001b[0m\u001b[1;33m)\u001b[0m\u001b[1;33m\u001b[0m\u001b[1;33m\u001b[0m\u001b[0m\n\u001b[0m\u001b[0;32m     88\u001b[0m \u001b[1;33m\u001b[0m\u001b[0m\n\u001b[0;32m     89\u001b[0m \u001b[1;33m\u001b[0m\u001b[0m\n",
      "\u001b[1;31mKeyboardInterrupt\u001b[0m: "
     ]
    }
   ],
   "source": [
    "for kk in range(2,100):\n",
    "    subfolder = RootPath + \"\\\\\" + subfolders[kk]\n",
    "    print(subfolder)\n",
    "\n",
    "    if not os.path.exists(OutputPath):\n",
    "        os.mkdir(OutputPath)\n",
    "        print(\"Directory \" , OutputPath ,  \" Created \")\n",
    "    else:    \n",
    "        print(\"Directory \" , OutputPath ,  \" already exists\")\n",
    "\n",
    "    #subdirectories = os.listdir(RootPath)\n",
    "    #videoNames = listdir(RootPath)\n",
    "    ###videoNames = sorted(listdir(RootPath))\n",
    "    videoNames = sorted(glob.glob(subfolder+\"\\\\*.avi\"))\n",
    "    print(videoNames[0])\n",
    "    ###videoNames = glob.glob(RootPath+\"\\\\*.avi\")\n",
    "    ###print(videoNames)\n",
    "\n",
    "\n",
    "    ############print(videoNames)\n",
    "\n",
    "    imageNameRoot =  subfolder  + \"\\\\tiff\\\\*.tif\"\n",
    "            #B9, C2,C4\n",
    "    (dirName,videoFileName) = os.path.split(subfolder)\n",
    "\n",
    "    imageNameRoot0 = dirName\n",
    "    imageNames = sorted(glob.glob(imageNameRoot))\n",
    "    imageNum = len(imageNames)\n",
    "\n",
    "\n",
    "    print(dirName)\n",
    "    ############print(imageNames[0])\n",
    "    ############print('subfolder: ' + subfolder)\n",
    "    ############print('ImageName: ' + str(imageNum))\n",
    "    ############print('videoName: '+ str(videoFileName))\n",
    "\n",
    "    img0 = cv2.imread(imageNames[0])\n",
    "    ######frame10 = cv2.cvtColor(img0, cv2.COLOR_BGR2GRAY)\n",
    "    ######\n",
    "    ######ret, frame10 = cap.read()\n",
    "    frame1 = img0[::ds,::ds,:]\n",
    "    frame_ref = cv2.cvtColor(frame1,cv2.COLOR_BGR2GRAY)\n",
    "\n",
    "    prvs = cv2.cvtColor(frame1,cv2.COLOR_BGR2GRAY)\n",
    "    hsv = np.zeros_like(frame1)\n",
    "    hsv[...,1] = 255\n",
    "\n",
    "\n",
    "    hei, wid = prvs.shape\n",
    "\n",
    "    magStack = np.zeros([hei, wid, int(imageNum)-1],dtype =  np.float32)\n",
    "    angStack = np.zeros([hei, wid, int(imageNum)-1],dtype =  np.float32)\n",
    "    SC_values_ref = np.zeros(int(imageNum)-1)\n",
    "\n",
    "\n",
    "    for ii in range(1,imageNum-1):\n",
    "\n",
    "        img2 = cv2.imread(imageNames[ii])\n",
    "        frame20 = img2[::ds,::ds,:]\n",
    "        frame2 = cv2.cvtColor(frame20,cv2.COLOR_BGR2GRAY)\n",
    "\n",
    "        next = frame2\n",
    "\n",
    "        SC_values_ref[ii-1] = SimilarityComparison(frame_ref, frame2)\n",
    "\n",
    "        ### Gradient flow\n",
    "\n",
    "        prvs_s = prvs\n",
    "        next_s = next\n",
    "        ##prvs_s = exposure.adjust_gamma(prvs_s, 1)\n",
    "        ##next_s = exposure.adjust_gamma(next_s, 1)\n",
    "\n",
    "        ##prvs_s = exposure.adjust_log(prvs, 5)\n",
    "        ##next_s = exposure.adjust_log(next, 5)\n",
    "\n",
    "        ###flow_d = next_s-prvs_s\n",
    "        flow = cv2.calcOpticalFlowFarneback(prvs_s,next_s, None, .5, 3, 15, 3, 5, 1.2, 0)\n",
    "\n",
    "        mag, ang = cv2.cartToPolar(flow[...,0], flow[...,1])\n",
    "        hsv[...,0] = ang*180/np.pi/2\n",
    "        hsv[...,2] = cv2.normalize(mag,None,0,255,cv2.NORM_MINMAX)\n",
    "        hsv[...,2] = mag*10\n",
    "        #print(np.max(mag))\n",
    "        ###bgr = cv2.cvtColor(hsv,cv2.COLOR_HSV2BGR)\n",
    "        ###vis = draw_flow(next_s, flow*10)\n",
    "\n",
    "        magStack[:,:,ii] = mag\n",
    "\n",
    "        if ii%100==0:\n",
    "            print(ii)\n",
    "\n",
    "        prvs = next\n",
    "\n",
    "\n",
    "    speed = (np.gradient(SC_values_ref[:-20]))\n",
    "\n",
    "    print(np.sum(np.isnan(speed)))\n",
    "    maxSpeed = np.max(speed)\n",
    "    minSpeed = np.min(speed)\n",
    "\n",
    "    speed_Ind_pos, _ = find_peaks(speed, height= maxSpeed*0.7,distance=10)\n",
    "    speed_Ind_neg, _ = find_peaks(-speed, height= -minSpeed*0.7,distance=10)\n",
    "\n",
    "    maxHeight = np.max(1-SC_values_ref[:-20])\n",
    "    dist_peak, _ = find_peaks(1-SC_values_ref[:-20], height= maxHeight*0.8,distance=100)\n",
    "\n",
    "\n",
    "    fig, (ax1,ax2,ax3) = plt.subplots(3,1)\n",
    "\n",
    "    ax1.plot(1-SC_values_ref[:-1])\n",
    "    ax1.plot(dist_peak,1-SC_values_ref[dist_peak],\"*\")\n",
    "    ###ax = plt.subplot(132)\n",
    "    ax2.plot(speed)\n",
    "    ax3.plot(abs(speed))\n",
    "    ax3.plot(speed_Ind_pos,abs(speed[speed_Ind_pos]),\"o\")\n",
    "    ax3.plot(speed_Ind_neg,abs(speed[speed_Ind_neg]),\"x\")\n",
    "    ax3.plot(dist_peak,abs(speed[dist_peak]),\"*\")\n",
    "\n",
    "    displayFigureName1 = OutputPath+\"\\\\\"+videoFileName+\"_result1.png\"\n",
    "    print(displayFigureName1)\n",
    "    fig.savefig(displayFigureName1)\n",
    "    fig.clf()\n",
    "    plt.close(fig)\n",
    "    \n",
    "    \n",
    "    ###thresh = threshold_otsu(magSum)\n",
    "    magSum = np.max(magStack,axis=2)\n",
    "    thresh = np.percentile(magSum,80)\n",
    "    mask = magSum>1*thresh\n",
    "\n",
    "    cellMask1 = binary_closing(mask,disk(1))\n",
    "    cellMask2 = ndi.binary_fill_holes(cellMask1)\n",
    "\n",
    "    cellMask3 =  remove_small_objects(cellMask2,200)\n",
    "\n",
    "    ###cellMask4 = cellMask3\n",
    "    cellMask4 = binary_closing(cellMask3,disk(2))\n",
    "    cellMask5 = ndi.binary_fill_holes(cellMask4)\n",
    "    cellMask6 = binary_erosion(cellMask5,disk(1))\n",
    "    cellMask7 = binary_opening(cellMask6,disk(3))\n",
    "\n",
    "    cellMask8 =  remove_small_objects(cellMask7,400)\n",
    "\n",
    "    cellMask9 = clear_border(cellMask8)\n",
    "\n",
    "    cellMask9 = getLargestCC(cellMask9)\n",
    "\n",
    "    mask_label = label(cellMask9)\n",
    "\n",
    "    ###for ii in range(1,np.max(mask_label)):\n",
    "    for jj in range(1,2):# just one object\n",
    "        mask_region = (mask_label==jj)\n",
    "        mask_region_stack = np.repeat(mask_region[:, :, np.newaxis], magStack.shape[2], axis=2)\n",
    "        mask_region_size = np.sum(mask_region)\n",
    "        print(mask_region_size)\n",
    "        ##plt.imshow(mask_region_stack[:,:,200])\n",
    "        magStack_mask = np.multiply(magStack, mask_region_stack.astype(int))\n",
    "        flow_trace = np.sum(magStack_mask,axis=0)\n",
    "        flow_trace = np.sum(flow_trace, axis=0)/mask_region_size\n",
    "\n",
    "\n",
    "    A_list = []\n",
    "    B_list = []\n",
    "\n",
    "    half_width1 = 51 # related to sample freqency\n",
    "    leftBound1 = dist_peak-half_width1\n",
    "    rightBound1 = dist_peak+2\n",
    "\n",
    "    half_width2 = 91 # related to sample freqency\n",
    "    leftBound2 = dist_peak+10\n",
    "    rightBound2 = dist_peak+half_width2\n",
    "\n",
    "\n",
    "    for ii in range(len(leftBound1)):\n",
    "        if leftBound1[ii]<5 or rightBound1[ii]>len(flow_trace)-20:\n",
    "            continue\n",
    "\n",
    "        maxV = np.max(flow_trace[leftBound1[ii]:rightBound1[ii]])\n",
    "        neg_ind = leftBound1[ii]+np.argmax(flow_trace[leftBound1[ii]:rightBound1[ii]])\n",
    "        A_list.append(neg_ind)\n",
    "\n",
    "    for ii in range(len(leftBound2)):\n",
    "        if leftBound2[ii]<5 or rightBound2[ii]>len(flow_trace)-20:\n",
    "            continue\n",
    "\n",
    "        maxV = np.max(flow_trace[leftBound2[ii]:rightBound2[ii]])\n",
    "        pos_ind = leftBound2[ii]+np.argmax(flow_trace[leftBound2[ii]:rightBound2[ii]])\n",
    "        B_list.append(pos_ind)\n",
    "\n",
    "    As = np.array(A_list)\n",
    "    Bs = np.array(B_list)\n",
    "    print(As)\n",
    "    print(Bs)\n",
    "\n",
    "    fig, (ax1,ax2) = plt.subplots(2,1)\n",
    "    plt.rcParams['figure.figsize'] = [18, 18]\n",
    "            ###plt.subplot(211)\n",
    "\n",
    "    alpha = 0.8\n",
    "    img_hsv = color.rgb2hsv(frame1)\n",
    "    color_mask = np.zeros(frame1.shape)\n",
    "    color_mask[...,0] = cellMask9.astype(float)*255\n",
    "    color_mask[...,1] = cellMask9.astype(float)*255\n",
    "    #color_mask[...,2] = magMask.astype(np.float)*255\n",
    "    color_mask_hsv = color.rgb2hsv(color_mask)\n",
    "\n",
    "    img_hsv[..., 0] = color_mask_hsv[..., 0]\n",
    "    img_hsv[..., 1] = color_mask_hsv[..., 1] * alpha\n",
    "    img_masked = color.hsv2rgb(img_hsv)\n",
    "\n",
    "\n",
    "    ax1.imshow(img_masked)\n",
    "    ax2.plot(flow_trace[1:-10])\n",
    "    ax2.plot(As,flow_trace[As], \"x\")\n",
    "    ax2.plot(Bs,flow_trace[Bs], \"d\")\n",
    "    ax2.plot(dist_peak,flow_trace[dist_peak],'*')\n",
    "    ax2.plot(speed_Ind_pos,flow_trace[speed_Ind_pos],'*')\n",
    "    ax2.plot(speed_Ind_neg,flow_trace[speed_Ind_neg],'*')\n",
    "    \n",
    "    displayFigureName2 = OutputPath+\"\\\\\"+videoFileName+\"_result2.png\"\n",
    "    print(displayFigureName2)\n",
    "    fig.savefig(displayFigureName2)\n",
    "    fig.clf()\n",
    "    plt.close(fig)\n",
    "    \n",
    "    "
   ]
  },
  {
   "cell_type": "code",
   "execution_count": null,
   "metadata": {},
   "outputs": [],
   "source": []
  }
 ],
 "metadata": {
  "kernelspec": {
   "display_name": "Python 3 (ipykernel)",
   "language": "python",
   "name": "python3"
  },
  "language_info": {
   "codemirror_mode": {
    "name": "ipython",
    "version": 3
   },
   "file_extension": ".py",
   "mimetype": "text/x-python",
   "name": "python",
   "nbconvert_exporter": "python",
   "pygments_lexer": "ipython3",
   "version": "3.9.5"
  }
 },
 "nbformat": 4,
 "nbformat_minor": 2
}
